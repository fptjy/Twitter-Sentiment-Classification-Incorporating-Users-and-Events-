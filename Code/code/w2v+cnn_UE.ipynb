{
 "cells": [
  {
   "cell_type": "code",
   "execution_count": 1,
   "metadata": {},
   "outputs": [
    {
     "name": "stderr",
     "output_type": "stream",
     "text": [
      "Using Theano backend.\n"
     ]
    }
   ],
   "source": [
    "import numpy as np\n",
    "import pandas as pd\n",
    "import cPickle\n",
    "from collections import defaultdict\n",
    "import re\n",
    "\n",
    "import gensim\n",
    "\n",
    "from sklearn.cross_validation import StratifiedShuffleSplit\n",
    "from sklearn.metrics import roc_auc_score\n",
    "from sklearn.svm import SVC\n",
    "from sklearn.linear_model import LogisticRegression\n",
    "from sklearn.ensemble import RandomForestClassifier\n",
    "from sklearn.feature_extraction.text import TfidfVectorizer, CountVectorizer\n",
    "\n",
    "from sklearn.decomposition import TruncatedSVD\n",
    "\n",
    "import keras\n",
    "from keras.models import Sequential\n",
    "from keras.layers.core import Dense, Dropout, Activation, Flatten, Reshape\n",
    "from keras.layers.embeddings import Embedding\n",
    "from keras.layers.convolutional import Convolution2D, MaxPooling2D\n",
    "from keras.optimizers import Adadelta\n",
    "from keras.constraints import unitnorm\n",
    "from keras.regularizers import l2\n",
    "from keras.utils import np_utils\n",
    "from keras import callbacks\n",
    "\n",
    "import lda\n",
    "\n",
    "import matplotlib.pyplot as plt\n",
    "\n",
    "from __future__ import division\n",
    "%matplotlib inline"
   ]
  },
  {
   "cell_type": "markdown",
   "metadata": {},
   "source": [
    "# LOAD DATA"
   ]
  },
  {
   "cell_type": "code",
   "execution_count": 2,
   "metadata": {},
   "outputs": [
    {
     "name": "stdout",
     "output_type": "stream",
     "text": [
      "loading data...\n",
      "data loaded!\n",
      "max_l should be set : 34\n"
     ]
    }
   ],
   "source": [
    "def get_idx_from_sent(sent, word_idx_map, max_l, kernel_size=5):\n",
    "    \"\"\"\n",
    "    Transforms sentence into a list of indices. Pad with zeroes.\n",
    "    \"\"\"\n",
    "    x = []\n",
    "    pad = kernel_size - 1\n",
    "    for i in xrange(pad):\n",
    "        x.append(0)\n",
    "    words = sent.split()\n",
    "    for word in words:\n",
    "        if word in word_idx_map:\n",
    "            x.append(word_idx_map[word])\n",
    "    while len(x) < max_l+2*pad:\n",
    "        x.append(0)\n",
    "    return x\n",
    "\n",
    "def make_idx_data(revs, word_idx_map, max_l, kernel_size=5):\n",
    "    \"\"\"\n",
    "    Transforms sentences into a 2-d matrix.\n",
    "    \"\"\"\n",
    "    train, val, test = [], [], []\n",
    "    for rev in revs:\n",
    "        sent = get_idx_from_sent(rev['text'], word_idx_map, max_l, kernel_size)\n",
    "        sent = sent+list(rev['ue'])# added\n",
    "        sent.append(rev['y'])\n",
    "        if rev['split'] == 1:\n",
    "            train.append(sent)\n",
    "        elif rev['split'] == 0:\n",
    "            val.append(sent)\n",
    "        else:\n",
    "            test.append(sent)\n",
    "    train = np.array(train, dtype=np.int)\n",
    "    val = np.array(val, dtype=np.int)\n",
    "    test = np.array(test, dtype=np.int)\n",
    "    return [train, val, test]\n",
    "\n",
    "# load data\n",
    "print \"loading data...\"\n",
    "x = cPickle.load(open(\"../data/twitter-train-val-test_ue.pickle\", \"rb\"))\n",
    "revs, W, word_idx_map, vocab = x[0], x[1], x[2], x[3]\n",
    "print \"data loaded!\"\n",
    "\n",
    "print 'max_l should be set :', np.max(pd.DataFrame(revs)['num_words'])  "
   ]
  },
  {
   "cell_type": "code",
   "execution_count": 3,
   "metadata": {},
   "outputs": [],
   "source": [
    "datasets = make_idx_data(revs, word_idx_map, max_l=34, kernel_size=5)  #*** must set max_l"
   ]
  },
  {
   "cell_type": "code",
   "execution_count": 4,
   "metadata": {},
   "outputs": [
    {
     "name": "stdout",
     "output_type": "stream",
     "text": [
      "train_X.shape = (4028L, 55L)\n",
      "train_Y.shape = (4028L, 2L)\n",
      "----------------------------------------------------------\n",
      "val_X.shape = (972L, 55L)\n",
      "val_Y.shape = (972L, 2L)\n",
      "----------------------------------------------------------\n",
      "test_X.shape = (5000L, 55L)\n",
      "test_Y.shape = (5000L, 2L)\n",
      "----------------------------------------------------------\n",
      "number of sentences: 10000\n",
      "vocab size: 18154\n",
      "max sentence length: 34\n",
      "W shape (18155L, 500L)\n",
      "word_idx_map length 18154\n",
      "conv_input_height 55\n",
      "conv_input_width 500\n"
     ]
    }
   ],
   "source": [
    "# Train data preparation\n",
    "N = datasets[0].shape[0]\n",
    "conv_input_width = W.shape[1]\n",
    "conv_input_height = int(datasets[0].shape[1]-1)\n",
    "\n",
    "# For each word write a word index (not vector) to X tensor\n",
    "train_X = np.zeros((N, conv_input_height), dtype=np.int)\n",
    "train_Y = np.zeros((N, 2), dtype=np.int)\n",
    "for i in xrange(N):\n",
    "    for j in xrange(conv_input_height):\n",
    "        train_X[i, j] = datasets[0][i, j]\n",
    "    train_Y[i, datasets[0][i, -1]] = 1\n",
    "    \n",
    "print 'train_X.shape = {}'.format(train_X.shape)\n",
    "print 'train_Y.shape = {}'.format(train_Y.shape)\n",
    "print '----------------------------------------------------------'\n",
    "\n",
    "\n",
    "# Validation data preparation\n",
    "Nv = datasets[1].shape[0]\n",
    "\n",
    "# For each word write a word index (not vector) to X tensor\n",
    "val_X = np.zeros((Nv, conv_input_height), dtype=np.int)\n",
    "val_Y = np.zeros((Nv, 2), dtype=np.int)\n",
    "for i in xrange(Nv):\n",
    "    for j in xrange(conv_input_height):\n",
    "        val_X[i, j] = datasets[1][i, j]\n",
    "    val_Y[i, datasets[1][i, -1]] = 1\n",
    "    \n",
    "print 'val_X.shape = {}'.format(val_X.shape)\n",
    "print 'val_Y.shape = {}'.format(val_Y.shape)\n",
    "print '----------------------------------------------------------'\n",
    "\n",
    "\n",
    "\n",
    "# Test data preparation\n",
    "Nt = datasets[2].shape[0]\n",
    "\n",
    "# For each word write a word index (not vector) to X tensor\n",
    "test_X = np.zeros((Nt, conv_input_height), dtype=np.int)\n",
    "test_Y = np.zeros((Nt, 2), dtype=np.int)\n",
    "for i in xrange(Nt):\n",
    "    for j in xrange(conv_input_height):\n",
    "        test_X[i, j] = datasets[2][i, j]\n",
    "    test_Y[i, datasets[2][i, -1]] = 1\n",
    "    \n",
    "print 'test_X.shape = {}'.format(test_X.shape)\n",
    "print 'test_Y.shape = {}'.format(test_Y.shape)\n",
    "print '----------------------------------------------------------'\n",
    "\n",
    "# Other Information\n",
    "max_l = np.max(pd.DataFrame(revs)['num_words'])     #记录最长句子的单词量\n",
    "print 'number of sentences: ' + str(len(revs))\n",
    "print 'vocab size: ' + str(len(vocab))\n",
    "print 'max sentence length: ' + str(max_l)\n",
    "print 'W shape',W.shape\n",
    "print 'word_idx_map length',len(word_idx_map)\n",
    "print 'conv_input_height',conv_input_height\n",
    "print 'conv_input_width',conv_input_width"
   ]
  },
  {
   "cell_type": "markdown",
   "metadata": {},
   "source": [
    "# BUILD MODEL"
   ]
  },
  {
   "cell_type": "code",
   "execution_count": 5,
   "metadata": {},
   "outputs": [
    {
     "name": "stderr",
     "output_type": "stream",
     "text": [
      "WARNING (theano.gof.cmodule): ModuleCache.refresh() Found key without dll in cache, deleting it. C:\\Users\\younggy\\AppData\\Local\\Theano\\compiledir_Windows-10-10.0.10586-Intel64_Family_6_Model_60_Stepping_3_GenuineIntel-2.7.12-64\\tmps3tl0i\\key.pkl\n",
      "WARNING:theano.gof.cmodule:ModuleCache.refresh() Found key without dll in cache, deleting it. C:\\Users\\younggy\\AppData\\Local\\Theano\\compiledir_Windows-10-10.0.10586-Intel64_Family_6_Model_60_Stepping_3_GenuineIntel-2.7.12-64\\tmps3tl0i\\key.pkl\n",
      "INFO (theano.gof.compilelock): Waiting for existing lock by process '15368' (I am process '28596')\n",
      "INFO:theano.gof.compilelock:Waiting for existing lock by process '15368' (I am process '28596')\n",
      "INFO (theano.gof.compilelock): To manually release the lock, delete C:\\Users\\younggy\\AppData\\Local\\Theano\\compiledir_Windows-10-10.0.10586-Intel64_Family_6_Model_60_Stepping_3_GenuineIntel-2.7.12-64\\lock_dir\n",
      "INFO:theano.gof.compilelock:To manually release the lock, delete C:\\Users\\younggy\\AppData\\Local\\Theano\\compiledir_Windows-10-10.0.10586-Intel64_Family_6_Model_60_Stepping_3_GenuineIntel-2.7.12-64\\lock_dir\n"
     ]
    }
   ],
   "source": [
    "# Number of feature maps (outputs of convolutional layer)\n",
    "N_fm = 300\n",
    "# kernel size of convolutional layer\n",
    "kernel_size = 8\n",
    "\n",
    "model = Sequential()\n",
    "# Embedding layer (lookup table of trainable word vectors)\n",
    "model.add(Embedding(input_dim=W.shape[0], \n",
    "                    output_dim=W.shape[1], \n",
    "                    input_length=conv_input_height,\n",
    "                    weights=[W], \n",
    "                    W_constraint=unitnorm()))\n",
    "# Reshape word vectors from Embedding to tensor format suitable for Convolutional layer\n",
    "model.add(Reshape((1, conv_input_height, conv_input_width)))\n",
    "\n",
    "# first convolutional layer\n",
    "model.add(Convolution2D(N_fm, \n",
    "                        kernel_size, \n",
    "                        conv_input_width, \n",
    "                        border_mode='valid', \n",
    "                        W_regularizer=l2(0.0001)))\n",
    "# ReLU activation\n",
    "model.add(Activation('relu'))\n",
    "\n",
    "# aggregate data in every feature map to scalar using MAX operation\n",
    "model.add(MaxPooling2D(pool_size=(conv_input_height-kernel_size+1, 1)))\n",
    "\n",
    "model.add(Flatten())\n",
    "model.add(Dropout(0.5))\n",
    "# Inner Product layer (as in regular neural network, but without non-linear activation function)\n",
    "model.add(Dense(2))\n",
    "# SoftMax activation; actually, Dense+SoftMax works as Multinomial Logistic Regression\n",
    "model.add(Activation('softmax'))\n",
    "\n",
    "# Custom optimizers could be used, though right now standard adadelta is employed\n",
    "opt = Adadelta(lr=1.0, rho=0.95, epsilon=1e-6)\n",
    "model.compile(loss='categorical_crossentropy', \n",
    "              optimizer=opt,\n",
    "              metrics=['accuracy'])"
   ]
  },
  {
   "cell_type": "code",
   "execution_count": 6,
   "metadata": {},
   "outputs": [
    {
     "name": "stdout",
     "output_type": "stream",
     "text": [
      "____________________________________________________________________________________________________\n",
      "Layer (type)                     Output Shape          Param #     Connected to                     \n",
      "====================================================================================================\n",
      "embedding_1 (Embedding)          (None, 55, 500L)      9077500     embedding_input_1[0][0]          \n",
      "____________________________________________________________________________________________________\n",
      "reshape_1 (Reshape)              (None, 1, 55, 500L)   0           embedding_1[0][0]                \n",
      "____________________________________________________________________________________________________\n",
      "convolution2d_1 (Convolution2D)  (None, 300, 48, 1L)   1200300     reshape_1[0][0]                  \n",
      "____________________________________________________________________________________________________\n",
      "activation_1 (Activation)        (None, 300, 48, 1L)   0           convolution2d_1[0][0]            \n",
      "____________________________________________________________________________________________________\n",
      "maxpooling2d_1 (MaxPooling2D)    (None, 300, 1, 1L)    0           activation_1[0][0]               \n",
      "____________________________________________________________________________________________________\n",
      "flatten_1 (Flatten)              (None, 300)           0           maxpooling2d_1[0][0]             \n",
      "____________________________________________________________________________________________________\n",
      "dropout_1 (Dropout)              (None, 300)           0           flatten_1[0][0]                  \n",
      "____________________________________________________________________________________________________\n",
      "dense_1 (Dense)                  (None, 2)             602         dropout_1[0][0]                  \n",
      "____________________________________________________________________________________________________\n",
      "activation_2 (Activation)        (None, 2)             0           dense_1[0][0]                    \n",
      "====================================================================================================\n",
      "Total params: 10278402\n",
      "____________________________________________________________________________________________________\n"
     ]
    }
   ],
   "source": [
    "model.summary()"
   ]
  },
  {
   "cell_type": "markdown",
   "metadata": {},
   "source": [
    "# MODEL TRAINING"
   ]
  },
  {
   "cell_type": "code",
   "execution_count": 7,
   "metadata": {},
   "outputs": [
    {
     "name": "stdout",
     "output_type": "stream",
     "text": [
      "Train on 3222 samples, validate on 806 samples\n",
      "Epoch 1/100\n",
      "3222/3222 [==============================] - 58s - loss: 0.6891 - acc: 0.5341 - val_loss: 0.6712 - val_acc: 0.6414\n",
      "Epoch 2/100\n",
      "3222/3222 [==============================] - 57s - loss: 0.6296 - acc: 0.6629 - val_loss: 0.6132 - val_acc: 0.6824\n",
      "Epoch 3/100\n",
      "3222/3222 [==============================] - 61s - loss: 0.5522 - acc: 0.7353 - val_loss: 0.5400 - val_acc: 0.7308\n",
      "Epoch 4/100\n",
      "3222/3222 [==============================] - 59s - loss: 0.4863 - acc: 0.7765 - val_loss: 0.5683 - val_acc: 0.7196\n",
      "Epoch 5/100\n",
      "3222/3222 [==============================] - 59s - loss: 0.4128 - acc: 0.8228 - val_loss: 0.6982 - val_acc: 0.6898\n",
      "Epoch 6/100\n",
      "3222/3222 [==============================] - 63s - loss: 0.3458 - acc: 0.8625 - val_loss: 0.5988 - val_acc: 0.7258\n",
      "Epoch 7/100\n",
      "3222/3222 [==============================] - 62s - loss: 0.2511 - acc: 0.9032 - val_loss: 0.6532 - val_acc: 0.7295\n",
      "Epoch 8/100\n",
      "3222/3222 [==============================] - 62s - loss: 0.1909 - acc: 0.9308 - val_loss: 0.7215 - val_acc: 0.7357\n",
      "Epoch 9/100\n",
      "3222/3222 [==============================] - 66s - loss: 0.1263 - acc: 0.9603 - val_loss: 0.8621 - val_acc: 0.7184\n",
      "Epoch 10/100\n",
      "3222/3222 [==============================] - 60s - loss: 0.0831 - acc: 0.9780 - val_loss: 0.8828 - val_acc: 0.7208\n",
      "Epoch 11/100\n",
      "3222/3222 [==============================] - 62s - loss: 0.0579 - acc: 0.9836 - val_loss: 0.8999 - val_acc: 0.7395\n",
      "Epoch 12/100\n",
      "3222/3222 [==============================] - 59s - loss: 0.0436 - acc: 0.9904 - val_loss: 0.9895 - val_acc: 0.7333\n",
      "Epoch 13/100\n",
      "3222/3222 [==============================] - 64s - loss: 0.0331 - acc: 0.9935 - val_loss: 1.0288 - val_acc: 0.7196\n",
      "Epoch 14/100\n",
      "3222/3222 [==============================] - 61s - loss: 0.0245 - acc: 0.9969 - val_loss: 1.0963 - val_acc: 0.7246\n",
      "Epoch 15/100\n",
      "3222/3222 [==============================] - 63s - loss: 0.0239 - acc: 0.9972 - val_loss: 1.1165 - val_acc: 0.7196\n",
      "Epoch 16/100\n",
      "3222/3222 [==============================] - 75s - loss: 0.0191 - acc: 0.9991 - val_loss: 1.1643 - val_acc: 0.7196\n",
      "Epoch 17/100\n",
      "3222/3222 [==============================] - 88s - loss: 0.0165 - acc: 0.9991 - val_loss: 1.1908 - val_acc: 0.7196\n",
      "Epoch 18/100\n",
      "3222/3222 [==============================] - 97s - loss: 0.0160 - acc: 0.9991 - val_loss: 1.2368 - val_acc: 0.7184\n",
      "Epoch 19/100\n",
      "3222/3222 [==============================] - 94s - loss: 0.0150 - acc: 0.9997 - val_loss: 1.2544 - val_acc: 0.7146\n",
      "Epoch 20/100\n",
      "3222/3222 [==============================] - 90s - loss: 0.0136 - acc: 0.9991 - val_loss: 1.2729 - val_acc: 0.7184\n",
      "Epoch 21/100\n",
      "3222/3222 [==============================] - 93s - loss: 0.0135 - acc: 0.9994 - val_loss: 1.2538 - val_acc: 0.7221\n",
      "Epoch 22/100\n",
      "3222/3222 [==============================] - 97s - loss: 0.0148 - acc: 0.9991 - val_loss: 1.2525 - val_acc: 0.7208\n",
      "Epoch 23/100\n",
      "3222/3222 [==============================] - 94s - loss: 0.0142 - acc: 0.9994 - val_loss: 1.2355 - val_acc: 0.7171\n",
      "Epoch 24/100\n",
      "3222/3222 [==============================] - 79s - loss: 0.0124 - acc: 0.9997 - val_loss: 1.2677 - val_acc: 0.7171\n",
      "Epoch 25/100\n",
      "3222/3222 [==============================] - 76s - loss: 0.0121 - acc: 1.0000 - val_loss: 1.3094 - val_acc: 0.7171\n",
      "Epoch 26/100\n",
      "3222/3222 [==============================] - 79s - loss: 0.0139 - acc: 0.9997 - val_loss: 1.3035 - val_acc: 0.7246\n",
      "Epoch 27/100\n",
      "3222/3222 [==============================] - 75s - loss: 0.0117 - acc: 0.9997 - val_loss: 1.3062 - val_acc: 0.7122\n",
      "Epoch 28/100\n",
      "3222/3222 [==============================] - 70s - loss: 0.0113 - acc: 0.9997 - val_loss: 1.3217 - val_acc: 0.7184\n",
      "Epoch 29/100\n",
      "3222/3222 [==============================] - 62s - loss: 0.0109 - acc: 0.9997 - val_loss: 1.3209 - val_acc: 0.7109\n",
      "Epoch 30/100\n",
      "3222/3222 [==============================] - 65s - loss: 0.0106 - acc: 1.0000 - val_loss: 1.3369 - val_acc: 0.7134\n",
      "Epoch 31/100\n",
      "3222/3222 [==============================] - 63s - loss: 0.0121 - acc: 0.9994 - val_loss: 1.3384 - val_acc: 0.7171\n",
      "Epoch 32/100\n",
      "3222/3222 [==============================] - 65s - loss: 0.0107 - acc: 1.0000 - val_loss: 1.3158 - val_acc: 0.7134\n",
      "Epoch 33/100\n",
      "3222/3222 [==============================] - 64s - loss: 0.0101 - acc: 1.0000 - val_loss: 1.3623 - val_acc: 0.7084\n",
      "Epoch 34/100\n",
      "3222/3222 [==============================] - 65s - loss: 0.0098 - acc: 1.0000 - val_loss: 1.3589 - val_acc: 0.7122\n",
      "Epoch 35/100\n",
      "3222/3222 [==============================] - 64s - loss: 0.0098 - acc: 1.0000 - val_loss: 1.3347 - val_acc: 0.7221\n",
      "Epoch 36/100\n",
      "3222/3222 [==============================] - 66s - loss: 0.0096 - acc: 1.0000 - val_loss: 1.3863 - val_acc: 0.7146\n",
      "Epoch 37/100\n",
      "3222/3222 [==============================] - 66s - loss: 0.0094 - acc: 1.0000 - val_loss: 1.3372 - val_acc: 0.7196\n",
      "Epoch 38/100\n",
      "3222/3222 [==============================] - 63s - loss: 0.0090 - acc: 1.0000 - val_loss: 1.3588 - val_acc: 0.7171\n",
      "Epoch 39/100\n",
      "3222/3222 [==============================] - 65s - loss: 0.0088 - acc: 1.0000 - val_loss: 1.3540 - val_acc: 0.7134\n",
      "Epoch 40/100\n",
      "3222/3222 [==============================] - 65s - loss: 0.0089 - acc: 1.0000 - val_loss: 1.3512 - val_acc: 0.7122\n",
      "Epoch 41/100\n",
      "3222/3222 [==============================] - 66s - loss: 0.0089 - acc: 1.0000 - val_loss: 1.3661 - val_acc: 0.7122\n",
      "Epoch 42/100\n",
      "3222/3222 [==============================] - 64s - loss: 0.0091 - acc: 0.9997 - val_loss: 1.4091 - val_acc: 0.7047\n",
      "Epoch 43/100\n",
      "3222/3222 [==============================] - 66s - loss: 0.0086 - acc: 1.0000 - val_loss: 1.3556 - val_acc: 0.7146\n",
      "Epoch 44/100\n",
      "3222/3222 [==============================] - 64s - loss: 0.0082 - acc: 1.0000 - val_loss: 1.3498 - val_acc: 0.7184\n",
      "Epoch 45/100\n",
      "3222/3222 [==============================] - 64s - loss: 0.0078 - acc: 1.0000 - val_loss: 1.3574 - val_acc: 0.7171\n",
      "Epoch 46/100\n",
      "3222/3222 [==============================] - 65s - loss: 0.0082 - acc: 1.0000 - val_loss: 1.3571 - val_acc: 0.7146\n",
      "Epoch 47/100\n",
      "3222/3222 [==============================] - 67s - loss: 0.0077 - acc: 1.0000 - val_loss: 1.3481 - val_acc: 0.7171\n",
      "Epoch 48/100\n",
      "3222/3222 [==============================] - 65s - loss: 0.0078 - acc: 1.0000 - val_loss: 1.3463 - val_acc: 0.7196\n",
      "Epoch 49/100\n",
      "3222/3222 [==============================] - 64s - loss: 0.0077 - acc: 1.0000 - val_loss: 1.3490 - val_acc: 0.7134\n",
      "Epoch 50/100\n",
      "3222/3222 [==============================] - 63s - loss: 0.0079 - acc: 1.0000 - val_loss: 1.3471 - val_acc: 0.7208\n",
      "Epoch 51/100\n",
      "3222/3222 [==============================] - 65s - loss: 0.0074 - acc: 1.0000 - val_loss: 1.3404 - val_acc: 0.7146\n",
      "Epoch 52/100\n",
      "3222/3222 [==============================] - 65s - loss: 0.0074 - acc: 1.0000 - val_loss: 1.3771 - val_acc: 0.7047\n",
      "Epoch 53/100\n",
      "3222/3222 [==============================] - 65s - loss: 0.0072 - acc: 1.0000 - val_loss: 1.3442 - val_acc: 0.7159\n",
      "Epoch 54/100\n",
      "3222/3222 [==============================] - 66s - loss: 0.0071 - acc: 1.0000 - val_loss: 1.3398 - val_acc: 0.7171\n",
      "Epoch 55/100\n",
      "3222/3222 [==============================] - 68s - loss: 0.0070 - acc: 1.0000 - val_loss: 1.3301 - val_acc: 0.7184\n",
      "Epoch 56/100\n",
      "3222/3222 [==============================] - 65s - loss: 0.0069 - acc: 1.0000 - val_loss: 1.3287 - val_acc: 0.7159\n",
      "Epoch 57/100\n",
      "3222/3222 [==============================] - 64s - loss: 0.0071 - acc: 1.0000 - val_loss: 1.3454 - val_acc: 0.7258\n",
      "Epoch 58/100\n",
      "3222/3222 [==============================] - 65s - loss: 0.0066 - acc: 1.0000 - val_loss: 1.3474 - val_acc: 0.7258\n",
      "Epoch 59/100\n",
      "3222/3222 [==============================] - 65s - loss: 0.0072 - acc: 1.0000 - val_loss: 1.3527 - val_acc: 0.7159\n",
      "Epoch 60/100\n",
      "3222/3222 [==============================] - 65s - loss: 0.0066 - acc: 1.0000 - val_loss: 1.3552 - val_acc: 0.7171\n",
      "Epoch 61/100\n",
      "3222/3222 [==============================] - 67s - loss: 0.0070 - acc: 1.0000 - val_loss: 1.3225 - val_acc: 0.7196\n",
      "Epoch 62/100\n",
      "3222/3222 [==============================] - 69s - loss: 0.0065 - acc: 1.0000 - val_loss: 1.3351 - val_acc: 0.7184\n",
      "Epoch 63/100\n",
      "3222/3222 [==============================] - 62s - loss: 0.0065 - acc: 1.0000 - val_loss: 1.3429 - val_acc: 0.7208\n",
      "Epoch 64/100\n",
      "3222/3222 [==============================] - 66s - loss: 0.0067 - acc: 1.0000 - val_loss: 1.3594 - val_acc: 0.7233\n",
      "Epoch 65/100\n",
      "3222/3222 [==============================] - 64s - loss: 0.0064 - acc: 1.0000 - val_loss: 1.3418 - val_acc: 0.7196\n",
      "Epoch 66/100\n",
      "3222/3222 [==============================] - 67s - loss: 0.0062 - acc: 1.0000 - val_loss: 1.3500 - val_acc: 0.7146\n",
      "Epoch 67/100\n",
      "3222/3222 [==============================] - 65s - loss: 0.0061 - acc: 1.0000 - val_loss: 1.3427 - val_acc: 0.7184\n",
      "Epoch 68/100\n",
      "3222/3222 [==============================] - 66s - loss: 0.0062 - acc: 1.0000 - val_loss: 1.3599 - val_acc: 0.7208\n",
      "Epoch 69/100\n",
      "3222/3222 [==============================] - 65s - loss: 0.0058 - acc: 1.0000 - val_loss: 1.3521 - val_acc: 0.7196\n",
      "Epoch 70/100\n",
      "3222/3222 [==============================] - 66s - loss: 0.0057 - acc: 1.0000 - val_loss: 1.3538 - val_acc: 0.7246\n",
      "Epoch 71/100\n",
      "3222/3222 [==============================] - 66s - loss: 0.0057 - acc: 1.0000 - val_loss: 1.3482 - val_acc: 0.7208\n",
      "Epoch 72/100\n",
      "3222/3222 [==============================] - 65s - loss: 0.0056 - acc: 1.0000 - val_loss: 1.3344 - val_acc: 0.7184\n",
      "Epoch 73/100\n",
      "3222/3222 [==============================] - 67s - loss: 0.0058 - acc: 1.0000 - val_loss: 1.3306 - val_acc: 0.7184\n",
      "Epoch 74/100\n",
      "3222/3222 [==============================] - 66s - loss: 0.0055 - acc: 1.0000 - val_loss: 1.3289 - val_acc: 0.7171\n",
      "Epoch 75/100\n",
      "3222/3222 [==============================] - 63s - loss: 0.0055 - acc: 1.0000 - val_loss: 1.3318 - val_acc: 0.7171\n",
      "Epoch 76/100\n",
      "3222/3222 [==============================] - 65s - loss: 0.0056 - acc: 1.0000 - val_loss: 1.3261 - val_acc: 0.7208\n",
      "Epoch 77/100\n",
      "3222/3222 [==============================] - 67s - loss: 0.0053 - acc: 1.0000 - val_loss: 1.3223 - val_acc: 0.7196\n",
      "Epoch 78/100\n",
      "3222/3222 [==============================] - 65s - loss: 0.0056 - acc: 1.0000 - val_loss: 1.3375 - val_acc: 0.7233\n",
      "Epoch 79/100\n",
      "3222/3222 [==============================] - 65s - loss: 0.0065 - acc: 0.9994 - val_loss: 1.3194 - val_acc: 0.7184\n",
      "Epoch 80/100\n",
      "3222/3222 [==============================] - 66s - loss: 0.0055 - acc: 1.0000 - val_loss: 1.3292 - val_acc: 0.7184\n",
      "Epoch 81/100\n",
      "3222/3222 [==============================] - 67s - loss: 0.0052 - acc: 1.0000 - val_loss: 1.3288 - val_acc: 0.7233\n",
      "Epoch 82/100\n",
      "3222/3222 [==============================] - 65s - loss: 0.0050 - acc: 1.0000 - val_loss: 1.3257 - val_acc: 0.7184\n",
      "Epoch 83/100\n",
      "3222/3222 [==============================] - 65s - loss: 0.0050 - acc: 1.0000 - val_loss: 1.3267 - val_acc: 0.7233\n",
      "Epoch 84/100\n",
      "3222/3222 [==============================] - 62s - loss: 0.0049 - acc: 1.0000 - val_loss: 1.3385 - val_acc: 0.7146\n",
      "Epoch 85/100\n",
      "3222/3222 [==============================] - 68s - loss: 0.0055 - acc: 0.9997 - val_loss: 1.3289 - val_acc: 0.7184\n",
      "Epoch 86/100\n",
      "3222/3222 [==============================] - 64s - loss: 0.0050 - acc: 1.0000 - val_loss: 1.3218 - val_acc: 0.7159\n",
      "Epoch 87/100\n",
      "3222/3222 [==============================] - 63s - loss: 0.0049 - acc: 1.0000 - val_loss: 1.3213 - val_acc: 0.7208\n",
      "Epoch 88/100\n",
      "3222/3222 [==============================] - 65s - loss: 0.0049 - acc: 1.0000 - val_loss: 1.3247 - val_acc: 0.7196\n",
      "Epoch 89/100\n",
      "3222/3222 [==============================] - 66s - loss: 0.0050 - acc: 1.0000 - val_loss: 1.3176 - val_acc: 0.7246\n",
      "Epoch 90/100\n",
      "3222/3222 [==============================] - 67s - loss: 0.0047 - acc: 1.0000 - val_loss: 1.3134 - val_acc: 0.7196\n",
      "Epoch 91/100\n",
      "3222/3222 [==============================] - 65s - loss: 0.0047 - acc: 1.0000 - val_loss: 1.3263 - val_acc: 0.7208\n",
      "Epoch 92/100\n",
      "3222/3222 [==============================] - 67s - loss: 0.0048 - acc: 1.0000 - val_loss: 1.3312 - val_acc: 0.7184\n",
      "Epoch 93/100\n",
      "3222/3222 [==============================] - 64s - loss: 0.0048 - acc: 1.0000 - val_loss: 1.3275 - val_acc: 0.7159\n",
      "Epoch 94/100\n",
      "3222/3222 [==============================] - 65s - loss: 0.0047 - acc: 1.0000 - val_loss: 1.3275 - val_acc: 0.7146\n",
      "Epoch 95/100\n",
      "3222/3222 [==============================] - 64s - loss: 0.0045 - acc: 1.0000 - val_loss: 1.3217 - val_acc: 0.7184\n",
      "Epoch 96/100\n",
      "3222/3222 [==============================] - 65s - loss: 0.0045 - acc: 1.0000 - val_loss: 1.3605 - val_acc: 0.7159\n",
      "Epoch 97/100\n",
      "3222/3222 [==============================] - 73s - loss: 0.0045 - acc: 1.0000 - val_loss: 1.3243 - val_acc: 0.7208\n",
      "Epoch 98/100\n",
      "3222/3222 [==============================] - 65s - loss: 0.0044 - acc: 1.0000 - val_loss: 1.3289 - val_acc: 0.7221\n",
      "Epoch 99/100\n",
      "3222/3222 [==============================] - 66s - loss: 0.0043 - acc: 1.0000 - val_loss: 1.3268 - val_acc: 0.7221\n",
      "Epoch 100/100\n",
      "3222/3222 [==============================] - 65s - loss: 0.0045 - acc: 1.0000 - val_loss: 1.3211 - val_acc: 0.7196\n"
     ]
    }
   ],
   "source": [
    "history = model.fit(train_X, train_Y, batch_size=50, nb_epoch=100, verbose=1,validation_split=0.2)"
   ]
  },
  {
   "cell_type": "markdown",
   "metadata": {},
   "source": [
    "# MODEL EVALUATION"
   ]
  },
  {
   "cell_type": "code",
   "execution_count": 8,
   "metadata": {
    "collapsed": true
   },
   "outputs": [],
   "source": [
    "%matplotlib inline\n",
    "def plot_history(history):\n",
    "    # summarize history for accuracy\n",
    "    plt.plot(history.history['acc'])\n",
    "    plt.plot(history.history['val_acc'])\n",
    "    plt.title('model accuracy')\n",
    "    plt.ylabel('accuracy')\n",
    "    plt.xlabel('epoch')\n",
    "    plt.legend(['train', 'test'], loc='upper left')\n",
    "    plt.show()\n",
    "    # summarize history for loss\n",
    "    plt.plot(history.history['loss'])\n",
    "    plt.plot(history.history['val_loss'])\n",
    "    plt.title('model loss')\n",
    "    plt.ylabel('loss')\n",
    "    plt.xlabel('epoch')\n",
    "    plt.legend(['train', 'test'], loc='upper left')\n",
    "    plt.show()"
   ]
  },
  {
   "cell_type": "code",
   "execution_count": 9,
   "metadata": {},
   "outputs": [
    {
     "data": {
      "image/png": "[encoded data removed]",
      "text/plain": [
       "<matplotlib.figure.Figure at 0x31bed2e8>"
      ]
     },
     "metadata": {},
     "output_type": "display_data"
    },
    {
     "data": {
      "image/png": "[encoded data removed]",
      "text/plain": [
       "<matplotlib.figure.Figure at 0x31d72f28>"
      ]
     },
     "metadata": {},
     "output_type": "display_data"
    }
   ],
   "source": [
    "plot_history(history)"
   ]
  },
  {
   "cell_type": "markdown",
   "metadata": {},
   "source": [
    "# MODEL TESTING"
   ]
  },
  {
   "cell_type": "code",
   "execution_count": 10,
   "metadata": {},
   "outputs": [
    {
     "name": "stdout",
     "output_type": "stream",
     "text": [
      "5000/5000 [==============================] - 33s    \n"
     ]
    },
    {
     "data": {
      "text/plain": [
       "0.70579999999999998"
      ]
     },
     "execution_count": 10,
     "metadata": {},
     "output_type": "execute_result"
    }
   ],
   "source": [
    "p = model.predict_proba(test_X, batch_size=10)\n",
    "np.mean(np.argmax(test_Y,axis=1)==np.argmax(p,axis=1))"
   ]
  }
 ],
 "metadata": {
  "kernelspec": {
   "display_name": "Python 3",
   "language": "python",
   "name": "python3"
  },
  "language_info": {
   "codemirror_mode": {
    "name": "ipython",
    "version": 3
   },
   "file_extension": ".py",
   "mimetype": "text/x-python",
   "name": "python",
   "nbconvert_exporter": "python",
   "pygments_lexer": "ipython3",
   "version": "3.6.5"
  }
 },
 "nbformat": 4,
 "nbformat_minor": 1
}
