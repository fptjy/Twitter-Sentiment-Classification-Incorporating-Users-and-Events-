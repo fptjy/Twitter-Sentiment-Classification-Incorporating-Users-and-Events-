{
 "cells": [
  {
   "cell_type": "code",
   "execution_count": 13,
   "metadata": {},
   "outputs": [],
   "source": [
    "import re, string, unicodedata\n",
    "import nltk\n",
    "#import contractions\n",
    "import inflect\n",
    "from bs4 import BeautifulSoup\n",
    "from nltk import word_tokenize, sent_tokenize\n",
    "from nltk.corpus import stopwords\n",
    "from nltk.stem import LancasterStemmer, WordNetLemmatizer"
   ]
  },
  {
   "cell_type": "code",
   "execution_count": 18,
   "metadata": {},
   "outputs": [
    {
     "name": "stdout",
     "output_type": "stream",
     "text": [
      "b'<!doctype>\\n<html lang=\"en-US\" dir=\"ltr\">\\n  <head>\\n    <title>Ipod classic has more songs than my Itune\\xe2\\x80\\xa6 - Apple Community</title>\\n    \\n    \\n    \\n  \\n  \\n  \\n\\n  \\n    <link rel=\"canonical\" href=\"https://discussions.apple.com/thread/8457342\"/>\\n  \\n\\n\\t\\t<link href=\"/public/compiled/pages/thread.css\" rel=\"stylesheet\">\\n\\t\\t<link rel=\"preload\" href=\"/public/compiled/pages/thread.js\" as=\"script\">\\n\\t\\n\\n    \\n\\n    <meta name=\"viewport\" content=\"width=device-width, height=device-height, initial-scale=1, minimum-scale=1, viewport-fit=cover\">\\n    <meta http-equiv=\"X-UA-Compatible\" content=\"IE=edge\"/>\\n    <meta http-equiv=\"content-type\" content=\"text/html; charset=UTF-8\">\\n\\n    \\n      <link rel=\"shortcut icon\" href=\"https://www.apple.com/favicon.ico\" type=\"image/x-icon\">\\n    \\n\\n    \\n\\n    <meta name=\"ac-gn-store-key\" content=\"S2A49YFKJF2JAT22K\" />\\n<meta name=\"ac-gn-search-action\" content=\"https://support.apple.com/kb/index\" />\\n<meta name=\"ac-gn-search-input\" content=\"q\" />\\n<meta name=\"ac-gn-search-field[src]\" content=\"globalnav_support\" />\\n<meta name=\"ac-gn-search-field[type]\" content=\"organic\" />\\n<meta name=\"ac-gn-search-field[page]\" content=\"search\" />\\n<meta name=\"ac-gn-search-field[locale]\" content=\"en_US\" />\\n<link rel=\"stylesheet\" type=\"text/css\" href=\"//www.apple.com/ac/globalnav/3/en_US/styles/ac-globalnav.built.css\">\\n\\n    <link href=\"/public/compiled/decorator.css\" rel=\"stylesheet\">\\n    <link rel=\"stylesheet\" type=\"text/css\" href=\"//www.apple.com/ac/globalfooter/3/en_US/styles/ac-globalfooter.built.css\" />\\n\\n    <link rel=\"preload\" href=\"/public/scripts/dtml.js\" as=\"script\">\\n    <link rel=\"preload\" href=\"/public/compiled/decorator.js\" as=\"script\">\\n\\n    \\n\\n    \\n<link rel=\"stylesheet\" type=\"text/css\" href=\"//www.apple.com/wss/fonts/?family=Apple+Icons&amp;v=1\">\\n\\n\\n<link rel=\"stylesheet\" type=\"text/css\" href=\"//www.apple.com/wss/fonts?family&#x3D;Myriad+Set+Pro&amp;v&#x3D;1\">\\n<link rel=\"stylesheet\" type=\"text/css\" href=\"//www.apple.com/wss/fonts?families&#x3D;SF+Pro,v1|SF+Pro+Icons,v1\">\\n\\n    \\n  </head>\\n  <body>\\n\\n    <aside id=\"ac-gn-segmentbar\" class=\"ac-gn-segmentbar\" lang=\"en-US\" dir=\"ltr\" data-strings=\"{ \\'exit\\': \\'Exit\\', \\'view\\': \\'{%STOREFRONT%} Store Home\\', \\'segments\\': { \\'smb\\': \\'Business Store Home\\', \\'eduInd\\': \\'Education Store Home\\', \\'other\\': \\'Store Home\\' } }\">\\n</aside>\\n<input type=\"checkbox\" id=\"ac-gn-menustate\" class=\"ac-gn-menustate\" />\\n<nav id=\"ac-globalnav\" class=\"no-js\" role=\"navigation\" aria-label=\"Global Navigation\" data-hires=\"false\" data-analytics-region=\"global nav\" lang=\"en-US\" dir=\"ltr\" data-store-locale=\"us\" data-store-api=\"//www.apple.com/[storefront]/shop/bag/status\" data-search-locale=\"en_US\" data-search-api=\"//www.apple.com/search-services/suggestions/\">\\n<div class=\"ac-gn-content\">\\n  <ul class=\"ac-gn-header\">\\n    <li class=\"ac-gn-item ac-gn-menuicon\">\\n      <label class=\"ac-gn-menuicon-label\" for=\"ac-gn-menustate\" aria-hidden=\"true\">\\n\\t\\t\\t\\t\\t<span class=\"ac-gn-menuicon-bread ac-gn-menuicon-bread-top\">\\n\\t\\t\\t\\t\\t\\t<span class=\"ac-gn-menuicon-bread-crust ac-gn-menuicon-bread-crust-top\"></span>\\n\\t\\t\\t\\t\\t</span>\\n        <span class=\"ac-gn-menuicon-bread ac-gn-menuicon-bread-bottom\">\\n\\t\\t\\t\\t\\t\\t<span class=\"ac-gn-menuicon-bread-crust ac-gn-menuicon-bread-crust-bottom\"></span>\\n\\t\\t\\t\\t\\t</span>\\n      </label>\\n      <a href=\"#ac-gn-menustate\" class=\"ac-gn-menuanchor ac-gn-menuanchor-open\" id=\"ac-gn-menuanchor-open\">\\n        <span class=\"ac-gn-menuanchor-label\">Open Menu</span>\\n      </a>\\n      <a href=\"#\" class=\"ac-gn-menuanchor ac-gn-menuanchor-close\" id=\"ac-gn-menuanchor-close\">\\n        <span class=\"ac-gn-menuanchor-label\">Close Menu</span>\\n      </a>\\n    </li>\\n    <li class=\"ac-gn-item ac-gn-apple\">\\n      <a class=\"ac-gn-link ac-gn-link-apple\" href=\"//www.apple.com/\" data-analytics-title=\"apple home\" id=\"ac-gn-firstfocus-small\">\\n        <span class=\"ac-gn-link-text\">Apple</span>\\n      </a>\\n    </li>\\n    <li class=\"ac-gn-item ac-gn-bag ac-gn-bag-small\" id=\"ac-gn-bag-small\">\\n      <a class=\"ac-gn-link ac-gn-link-bag\" href=\"//www.apple.com/us/shop/goto/bag\" data-analytics-title=\"bag\" data-analytics-click=\"bag\" aria-label=\"Shopping Bag\" data-string-badge=\"Shopping Bag with Items\">\\n        <span class=\"ac-gn-link-text\">Shopping Bag</span>\\n        <span class=\"ac-gn-bag-badge\"></span>\\n      </a>\\n      <span class=\"ac-gn-bagview-caret ac-gn-bagview-caret-large\"></span>\\n    </li>\\n  </ul>\\n  <ul class=\"ac-gn-list\">\\n    <li class=\"ac-gn-item ac-gn-apple\">\\n      <a class=\"ac-gn-link ac-gn-link-apple\" href=\"//www.apple.com/\" data-analytics-title=\"apple home\" id=\"ac-gn-firstfocus\">\\n        <span class=\"ac-gn-link-text\">Apple</span>\\n      </a>\\n    </li>\\n    <li class=\"ac-gn-item ac-gn-item-menu ac-gn-mac\">\\n      <a class=\"ac-gn-link ac-gn-link-mac\" href=\"//www.apple.com/mac/\" data-analytics-title=\"mac\">\\n        <span class=\"ac-gn-link-text\">Mac</span>\\n      </a>\\n    </li>\\n    <li class=\"ac-gn-item ac-gn-item-menu ac-gn-ipad\">\\n      <a class=\"ac-gn-link ac-gn-link-ipad\" href=\"//www.apple.com/ipad/\" data-analytics-title=\"ipad\">\\n        <span class=\"ac-gn-link-text\">iPad</span>\\n      </a>\\n    </li>\\n    <li class=\"ac-gn-item ac-gn-item-menu ac-gn-iphone\">\\n      <a class=\"ac-gn-link ac-gn-link-iphone\" href=\"//www.apple.com/iphone/\" data-analytics-title=\"iphone\">\\n        <span class=\"ac-gn-link-text\">iPhone</span>\\n      </a>\\n    </li>\\n    <li class=\"ac-gn-item ac-gn-item-menu ac-gn-watch\">\\n      <a class=\"ac-gn-link ac-gn-link-watch\" href=\"//www.apple.com/watch/\" data-analytics-title=\"watch\">\\n        <span class=\"ac-gn-link-text\">Watch</span>\\n      </a>\\n    </li>\\n    <li class=\"ac-gn-item ac-gn-item-menu ac-gn-tv\">\\n      <a class=\"ac-gn-link ac-gn-link-tv\" href=\"//www.apple.com/apple-tv-4k/\" data-analytics-title=\"tv\">\\n        <span class=\"ac-gn-link-text\">TV</span>\\n      </a>\\n    </li>\\n    <li class=\"ac-gn-item ac-gn-item-menu ac-gn-music\">\\n      <a class=\"ac-gn-link ac-gn-link-music\" href=\"//www.apple.com/music/\" data-analytics-title=\"music\">\\n        <span class=\"ac-gn-link-text\">Music</span>\\n      </a>\\n    </li>\\n    <li class=\"ac-gn-item ac-gn-item-menu ac-gn-support\">\\n      <a class=\"ac-gn-link ac-gn-link-support current\" href=\"https://support.apple.com\" data-analytics-title=\"support\">\\n        <span class=\"ac-gn-link-text\">Support</span>\\n      </a>\\n    </li>\\n    <li class=\"ac-gn-item ac-gn-item-menu ac-gn-search\" role=\"search\">\\n      <a class=\"ac-gn-link ac-gn-link-search\" href=\"https://support.apple.com/kb/index?page=search&locale=en_US\" data-analytics-title=\"search\" data-analytics-click=\"search\" aria-label=\"Search support.apple.com\">\\n        <span class=\"ac-gn-search-placeholder\" aria-hidden=\"true\">Search support.apple.com</span>\\n      </a>\\n    </li>\\n    <li class=\"ac-gn-item ac-gn-bag\" id=\"ac-gn-bag\">\\n      <a class=\"ac-gn-link ac-gn-link-bag\" href=\"//www.apple.com/us/shop/goto/bag\" data-analytics-title=\"bag\" data-analytics-click=\"bag\" aria-label=\"Shopping Bag\" data-string-badge=\"Shopping Bag with Items\">\\n        <span class=\"ac-gn-link-text\">Shopping Bag</span>\\n        <span class=\"ac-gn-bag-badge\" aria-hidden=\"true\"></span>\\n      </a>\\n      <span class=\"ac-gn-bagview-caret ac-gn-bagview-caret-large\"></span>\\n    </li>\\n  </ul>\\n  <aside id=\"ac-gn-searchview\" class=\"ac-gn-searchview\" role=\"search\" data-analytics-region=\"search\">\\n    <div class=\"ac-gn-searchview-content\">\\n      <form id=\"ac-gn-searchform\" class=\"ac-gn-searchform\" action=\"//www.apple.com/us/search\" method=\"get\">\\n        <div class=\"ac-gn-searchform-wrapper\">\\n          <input id=\"ac-gn-searchform-input\" class=\"ac-gn-searchform-input\" type=\"text\" aria-label=\"Search apple.com\" placeholder=\"Search apple.com\" autocorrect=\"off\" autocapitalize=\"off\" autocomplete=\"off\" spellcheck=\"false\" />\\n          <input id=\"ac-gn-searchform-src\" type=\"hidden\" name=\"src\" value=\"globalnav\" />\\n          <button id=\"ac-gn-searchform-submit\" class=\"ac-gn-searchform-submit\" type=\"submit\" disabled aria-label=\"Submit\"></button>\\n          <button id=\"ac-gn-searchform-reset\" class=\"ac-gn-searchform-reset\" type=\"reset\" disabled aria-label=\"Clear Search\"></button>\\n        </div>\\n      </form>\\n      <aside id=\"ac-gn-searchresults\" class=\"ac-gn-searchresults\" data-string-quicklinks=\"Quick Links\" data-string-suggestions=\"Suggested Searches\" data-string-noresults=\"\"></aside>\\n    </div>\\n    <button id=\"ac-gn-searchview-close\" class=\"ac-gn-searchview-close\" aria-label=\"Close Search\">\\n\\t\\t\\t\\t\\t<span class=\"ac-gn-searchview-close-wrapper\">\\n\\t\\t\\t\\t\\t\\t<span class=\"ac-gn-searchview-close-left\"></span>\\n\\t\\t\\t\\t\\t\\t<span class=\"ac-gn-searchview-close-right\"></span>\\n\\t\\t\\t\\t\\t</span>\\n    </button>\\n  </aside>\\n  <aside class=\"ac-gn-bagview\" data-analytics-region=\"bag\">\\n    <div class=\"ac-gn-bagview-scrim\">\\n      <span class=\"ac-gn-bagview-caret ac-gn-bagview-caret-small\"></span>\\n    </div>\\n    <div class=\"ac-gn-bagview-content\" id=\"ac-gn-bagview-content\">\\n    </div>\\n  </aside>\\n</div>\\n</nav>\\n<div id=\"ac-gn-curtain\" class=\"ac-gn-curtain\"></div>\\n<div id=\"ac-gn-placeholder\" class=\"ac-nav-placeholder\"></div>\\n\\n\\n\\n    <div id=\"main-content\">\\n      \\n\\n<nav class=\"sub-nav-desktop\" aria-label=\"Communities\" data-analytics=\"nav:desktop\">\\n  <div class=\"sub-nav-row top-row\" role=\"presentation\">\\n    <a href=\"/\" class=\"subnav-title\" data-analytics=\"nav:link\">Communities</a>\\n    <a href=\"https://getsupport.apple.com\" class=\"contact-support\" data-analytics=\"nav:link\">Contact Support</a>\\n  </div>\\n  <div class=\"sub-nav-row bottom-row\" role=\"presentation\">\\n    <div class=\"profile\" role=\"presentation\">\\n      \\n        <a class=\"login\" href=\"/login.jspa\" data-analytics=\"nav:login\">Sign in</a>\\n      \\n    </div>\\n    <div class=\"nav\" role=\"presentation\">\\n      \\n      <a class=\"sub-nav-link\" href=\"/content\" data-analytics=\"nav:link\">Content</a>\\n      <a class=\"sub-nav-link\" href=\"/search.jspa\" data-analytics=\"nav:link\">Search</a>\\n      \\n        \\n      \\n      \\n    </div>\\n  </div>\\n</nav>\\n\\n<nav class=\"sub-nav-mobile\" data-action=\"sub-nav-mobile-menu\" aria-label=\"Communities\" data-analytics=\"nav:mobile\">\\n  <a href=\"/\" class=\"subnav-title\" data-analytics=\"nav:link\">Communities</a>\\n  <input id=\"sub-nav-mobile-menu\" type=\"checkbox\" data-action=\"sub-nav-mobile-checkbox\" class=\"a11y\" aria-label=\"Open Communities Navigation Menu\" role=\"button\" aria-haspopup=\"true\">\\n  <div class=\"sub-nav-wrapper\" role=\"presentation\">\\n      <div class=\"top\">\\n        <label for=\"sub-nav-mobile-menu\" class=\"chevron-icon\" data-action=\"sub-nav-mobile-menu-label\">\\n          <div class=\"line left\"></div>\\n          <div class=\"line right\"></div>\\n        </label>\\n      </div>\\n      <ul class=\"nav\" role=\"presentation\" data-action=\"sub-nav-mobile-menu-list\">\\n\\n        \\n          <li role=\"presentation\"><a class=\"menu-item\" href=\"/login.jspa\" data-analytics=\"nav:login\">Sign in</a></li>\\n        \\n\\n        \\n          <li role=\"presentation\"><a class=\"menu-item\" href=\"/login.jspa?createPost=true\" data-action=\"to-mobile-post-creation\" data-analytics=\"nav:link\">Post</a></li>\\n        \\n\\n        <li role=\"presentation\"><a class=\"menu-item\" href=\"/content?numResults=10&itemView=detail&filterID=all~objecttype~objecttype%5Bthread%5D\"  data-analytics=\"nav:link\">Browse Discussions</a></li>\\n\\n        \\n\\n        <li role=\"presentation\"><a class=\"menu-item\" href=\"https://getsupport.apple.com\" data-analytics=\"nav:link\">Contact Support</a></li>\\n\\n        \\n\\n        \\n\\n        <li class=\"sub-menu-search\" role=\"presentation\">\\n          <form action=\"/discussion/create.jspa?containerType=14&redirectURL=%2Findex.jspa&question=true&containerID=1\" class=\"search-form-menu\" method=\"GET\" data-action=\"menu-search-form\">\\n            <div class=\"cover\" data-action=\"menu-search-cover\" tabindex=\"0\" role=\"button\" data-analytics=\"nav:search\"><span class=\"a11y\">Ask a question</span></div>\\n            <input type=\"text\" aria-required=\"true\" aria-label=\"Ask a question\" id=\"askaquestion-menu\" name=\"subject\" required autocomplete=\"off\" maxlength=\"250\" placeholder=\"Search or ask a question\" aria-invalid=\"false\" data-action=\"menu-search\">\\n          </form>\\n        </li>\\n        <label class=\"a11y\" aria-label=\"Close Communities Navigation Menu\" role=\"button\" for=\"sub-nav-mobile-menu\"></label>\\n      </ul>\\n      <div class=\"dim\" data-action=\"sub-nav-mobile-dim\"></div>\\n  </div>\\n</nav>\\n\\n\\n\\n\\n      \\n\\t<nav class=\"breadcrumbs\" aria-label=\"Communities Breadcrumbs\" data-analytics=\"nav:breadcrumb\">\\n\\t\\t<a href=\"/\" data-analytics=\"nav:link\">Support Communities</a>\\n\\t\\t\\n\\t\\t\\t<span class=\"pipe\" aria-hidden=\"true\">/</span>\\n\\t\\t\\t<a href=\"/community/ipod\"  data-analytics=\"nav:link\">\\n\\t\\t\\t\\tiPod\\n\\t\\t\\t</a>\\n\\t\\t\\n\\t\\t\\t<span class=\"pipe\" aria-hidden=\"true\">/</span>\\n\\t\\t\\t<a href=\"/community/ipod/ipod_classic\" class=\"show-bold\" data-analytics=\"nav:link\">\\n\\t\\t\\t\\tiPod classic\\n\\t\\t\\t</a>\\n\\t\\t\\n\\t</nav>\\n\\n\\n      \\n    <main class=\"page\" role=\"main\" data-thread-id=\"8457342\" data-analytics=\"thread:page\" data-analytics-community=\"ipod_classic\" data-analytics-subcommunity=\"ipod\" data-analytics-thread-id=\"8457342\" data-analytics-replies-count=\"1\" itemscope=\"itemscope\" itemtype=\"http://schema.org/QAPage\">\\n\\n      <link itemprop=\"url\" href=\"https://discussions.apple.com/thread/8457342\">\\n\\n      \\n        \\n\\n      \\n\\n      <div itemscope=\"itemscope\" itemprop=\"mainEntity\" itemtype=\"http://schema.org/Question\">\\n        \\n\\n        \\n\\n        <div data-action=\"thread-question\">\\n          \\r\\n\\r\\n<section role=\"region\"\\r\\n  \\r\\n    aria-label=\"Thread question\" aria-describedby=\"content-post-title\"\\r\\n    id=\"8457342021\"\\r\\n  \\r\\n  \\r\\n  \\r\\n  \\r\\n  \\r\\n  class=\"content-post question\" data-analytics=\"thread-question\" data-analytics-id=\"8457342021\">\\r\\n\\r\\n  <div class=\"header\">\\r\\n    \\r\\n\\r\\n    \\r\\n      \\r\\n        \\n\\n<div class=\"post-author large\">\\n  \\n    \\n\\n<a href=\"/people/YoAng\" class=\"user-avatar large\" data-action=\"common-user-avatar\" data-user-id=\"dcd8ae29a5722fe\">\\n  <span class=\"a11y\">\\n    User profile for user: YoAng\\n  </span>\\n  <img src=\"/public/assets/avatars/SYSTEM_DEFAULT_AVATAR_EN_8999.png\" class=\"avatar\" alt=\"\" aria-hidden=\"true\">\\n</a>\\n  \\n  \\n\\n  <div class=\"post-author-metadata\" itemscope=\"itemscope\" itemprop=\"author\" itemtype=\"http://schema.org/Person\">\\n    <a href=\"/people/YoAng\" class=\"post-author-name\" data-action=\"common-post-user\" data-user-id=\"dcd8ae29a5722fe\">\\n      <span class=\"author-name\" itemprop=\"name\">\\n        YoAng\\n      </span>\\n    </a>\\n    <span class=\"post-author-reputation\">\\n      <div class=\"user-level large\">\\n    \\n      <div class=\"level-image user-level-icon-1\" aria-hidden=\"true\"></div>\\n        <span class=\"level-label\">\\n          <span class=\"a11y\">User level:</span>\\n          Level&nbsp;1\\n    \\n  </span>\\n</div>\\n\\n      \\n        <span class=\"points\">\\n          (4 points)\\n        </span>\\n      \\n      \\n        \\n          <span class=\"expertise\">\\n            \\n\\n<div class=\"user-expertise\">\\n  <span><div class=\"user-expertise-icon experertise-ipod\" aria-hidden=\"true\"></div></span>\\n  <div class=\"expertise-info\">\\n    <div class=\"expertise-title\">iPod<span class=\"a11y\">Speciality level out of ten: 0</span></div>\\n    <span class=\"progress-bar\">\\n      <span class=\"dashes progress-level-0\"></span>\\n      <span class=\"progress-dashes\"></span>\\n    </span>\\n  </div>\\n</div>\\n\\n\\n\\n          </span>\\n        \\n      \\n    </span>\\n  </div>\\n</div>\\r\\n      \\r\\n    \\r\\n  </div>\\r\\n\\r\\n  <div class=\"body\">\\r\\n    \\r\\n      <span class=\"drop-cap hide-tablet\">\\r\\n        <span class=\"a11y\">Question:</span>\\r\\n        <span aria-hidden=\"true\">Q:</span>\\r\\n      </span>\\r\\n    \\r\\n    \\r\\n\\r\\n    <div class=\"post-content\">\\r\\n      \\r\\n        <h1 class=\"title\" id=\"content-post-title\">\\r\\n          \\r\\n            <span class=\"a11y show-tablet-inline\">Question:</span>\\r\\n            <span class=\"drop-cap show-tablet-inline\" aria-hidden=\"true\">Q:</span>\\r\\n          \\r\\n          \\r\\n            <span itemprop=\"name\">Ipod classic has more songs than my Itunes library and also some of my songs jump to the next song</span>\\r\\n          \\r\\n        </h1>\\r\\n      \\r\\n\\r\\n      \\r\\n\\r\\n      \\r\\n\\r\\n      <div class=\"post-body\" data-action=\"content-post-body\">\\r\\n        \\r\\n\\r\\n        <div data-action=\"content-post-body-content\" class=\"content-post-body-content\" tabindex=\"-1\" data-analytics=\"content:post:body\" itemprop=\"text\">\\r\\n          <p>Hi, I have a couple of problems with my Ipod classic. I have more songs on my Ipod than on my Itunes library, can anyone help me solve this problem. Also, I have found that there are a few songs on my Ipod  that play for 10-20 seconds and then jump onto the next song. Can anyone help. Thanks</p>\\r\\n        </div>\\r\\n\\r\\n        <div class=\"post-content-toggle\">\\r\\n          <button class=\"post-content-toggle-button\" data-action=\"content-post-toggle-button\">\\r\\n            <span class=\"more-label\" aria-label=\"Show post content\">More</span>\\r\\n            <span class=\"less-label\" aria-label=\"Hide post content\">Less</span>\\r\\n          </button>\\r\\n        </div>\\r\\n      </div>\\r\\n\\r\\n      \\r\\n        \\r\\n          <p class=\"signature hide-tablet\">\\r\\n            \\r\\n              iPod\\r\\n\\t\\t\\t\\t\\tclassic\\r\\n            \\r\\n            \\r\\n            \\r\\n          </p>\\r\\n        \\r\\n      \\r\\n\\r\\n      \\r\\n        <p class=\"timestamp\">\\r\\n          \\r\\n            \\r\\n              \\r\\n                Posted on <time itemprop=\"dateCreated\" datetime=\"2018-07-10T11:20Z\">Jul 10, 2018 11:20 AM</time>\\r\\n              \\r\\n              \\r\\n            \\r\\n          \\r\\n        </p>\\r\\n      \\r\\n\\r\\n      <div class=\"action-bar\">\\r\\n        \\r\\n          <a class=\"button button-black\" href=\"/login.jspa?replyId=33616696\" data-analytics=\"content:post:action:reply:link\">Reply</a>\\r\\n          \\r\\n          <button class=\"button button-white me-too\" data-action=\"content-post-me-too\" data-analytics=\"content:post:action:metoo\" data-post-id=\"33616696\">\\r\\n            <span class=\"button-large button-default\">\\r\\n              I have this question too\\r\\n            </span>\\r\\n            <span class=\"button-large button-clicked\">\\r\\n              <span class=\"icon icon-check\"></span>\\r\\n              <span>I have this question too</span>\\r\\n            </span>\\r\\n            <span class=\"button-small button-default\">\\r\\n              Me too\\r\\n            </span>\\r\\n            <span class=\"button-small button-clicked\">\\r\\n              <span class=\"icon icon-check\"></span>\\r\\n              <span>Me too</span>\\r\\n            </span>\\r\\n          </button>\\r\\n        \\r\\n\\r\\n        \\r\\n\\r\\n        \\r\\n\\r\\n        \\r\\n      </div>\\r\\n    </div>\\r\\n  </div>\\r\\n</section>\\r\\n\\n\\n          \\n        </div>\\n\\n        \\n          \\n            <div class=\"helpful-all-toggler\" data-action=\"helpful-all-toggler\">\\n              \\n\\n\\n  \\n    \\n      \\n\\n<div class=\"dropdown\">\\n  \\n\\n  \\n\\n  \\n\\n  \\n    <button class=\"drop-down-button header\" aria-haspopup=\"true\" aria-expanded=\"false\" data-action=\"drop-down-button\" disabled>\\n      <h2 data-action=\"drop-down-button-text\">All replies</h2>\\n    </button>\\n  \\n\\n  \\n    \\n  \\n\\n  \\n</div>\\n    \\n  \\n\\n\\n            </div>\\n          \\n        \\n\\n        <section class=\"all-replies\"  data-action=\"all-replies\" role=\"region\" aria-label=\"All replies\">\\n          \\n            \\n              <div class=\"top-pagination hide-tablet\">\\n                \\n\\n<nav class=\"pagination\" data-action=\"pagination\" role=\"navigation\" aria-label=\"Pagination\" data-current-page=\"1\" data-total-pages=\"1\">\\n  <ol class=\"pagination-list\" role=\"presentation\">\\n    <li>\\n      <a class=\"first-page hidden\" href=\"/thread/8457342\" aria-label=\"First page\" data-action=\"pagination-first\" role=\"button\">\\n        first\\n      </a>\\n    </li>\\n\\n    <li>\\n      <a class=\"previous-page icon icon-standalone icon-chevronleft hidden\" role=\"button\" href=\"#\" aria-label=\"Previous page\" data-action=\"pagination-prev\">\\n      </a>\\n    </li>\\n\\n    <li>\\n      <span class=\"page-number\" role=\"text\" aria-label=\"Page 1 of 1\">\\n        \\n          <span class=\"hide-mobile-inline-block\" data-action=\"pagination-page-number-text\">\\n            Page 1 of 1\\n          </span>\\n          <span class=\"hide-desktop-inline-block\" data-action=\"pagination-page-number-text-mobile\">\\n            Page 1/1\\n          </span>\\n        \\n      </span>\\n    </li>\\n\\n    <li>\\n      <a class=\"next-page icon icon-standalone icon-chevronright hidden\" role=\"button\" data-action=\"pagination-next\" href=\"?page=2\" aria-label=\"Next page\">\\n      </a>\\n    </li>\\n\\n    \\n      <li>\\n        <a class=\"last-page hidden\" href=\"?page=1\" aria-label=\"Last page\" role=\"button\" data-action=\"pagination-last\">\\n          last\\n        </a>\\n      </li>\\n    \\n  </ol>\\n</nav>\\n\\n\\n  \\n\\n\\n              </div>\\n            \\n          \\n          <div data-action=\"all-replies-content\" class=\"all-replies-content\">\\n            \\n\\n\\n<div class=\"spinner-wrapper hidden\" data-action=\"loading-ajax-data\">\\n  <p class=\"a11y\" aria-live=\"polite\" role=\"status\" tabindex=\"-1\">Loading page content</p>\\n  <div class=\"spinner\"></div>\\n</div>\\n\\n<p class=\"a11y\" aria-live=\"polite\" role=\"status\" tabindex=\"-1\" data-action=\"ajax-data-aria-live\">Page content loaded</p>\\n\\n\\n  \\n    \\n      \\r\\n\\r\\n<article\\r\\n  \\r\\n  \\r\\n  \\r\\n  \\r\\n  \\r\\n    id=\"33616713022\"\\r\\n  \\r\\n  class=\"content-post answer\" data-analytics=\"thread-answer\" data-analytics-id=\"33616713022\">\\r\\n\\r\\n  <div class=\"header\">\\r\\n    \\r\\n      \\r\\n    \\r\\n\\r\\n    \\r\\n      \\r\\n        \\n\\n<div class=\"post-author\">\\n  \\n    \\n\\n<a href=\"/people/turingtest2\" class=\"user-avatar\" data-action=\"common-user-avatar\" data-user-id=\"2b022f5bc85b0931\">\\n  <span class=\"a11y\">\\n    User profile for user: turingtest2\\n  </span>\\n  <img src=\"/assets/avatar/2b022f5bc85b0931\" class=\"avatar\" alt=\"\" aria-hidden=\"true\">\\n</a>\\n  \\n  \\n\\n  <div class=\"post-author-metadata\" >\\n    <a href=\"/people/turingtest2\" class=\"post-author-name\" data-action=\"common-post-user\" data-user-id=\"2b022f5bc85b0931\">\\n      <span class=\"author-name\" >\\n        turingtest2\\n      </span>\\n    </a>\\n    <span class=\"post-author-reputation\">\\n      <div class=\"user-level large\">\\n    \\n      <div class=\"level-image user-level-icon-10\" aria-hidden=\"true\"></div>\\n        <span class=\"level-label\">\\n          <span class=\"a11y\">User level:</span>\\n          Level&nbsp;10\\n    \\n  </span>\\n</div>\\n\\n      \\n        <span class=\"points\">\\n          (128,972 points)\\n        </span>\\n      \\n      \\n        \\n          <span class=\"expertise\">\\n            \\n\\n<div class=\"user-expertise\">\\n  <span><div class=\"user-expertise-icon experertise-appletv\" aria-hidden=\"true\"></div></span>\\n  <div class=\"expertise-info\">\\n    <div class=\"expertise-title\">Apple TV<span class=\"a11y\">Speciality level out of ten: 10</span></div>\\n    <span class=\"progress-bar\">\\n      <span class=\"dashes progress-level-10\"></span>\\n      <span class=\"progress-dashes\"></span>\\n    </span>\\n  </div>\\n</div>\\n\\n\\n\\n          </span>\\n        \\n      \\n    </span>\\n  </div>\\n</div>\\r\\n      \\r\\n    \\r\\n  </div>\\r\\n\\r\\n  <div class=\"body\">\\r\\n    \\r\\n    \\r\\n\\r\\n    <div class=\"post-content\">\\r\\n      \\r\\n\\r\\n      \\r\\n\\r\\n      \\r\\n        <p class=\"timestamp timestamp-top\">\\r\\n          \\r\\n            <a class=\"in-response-to\" href=\"/thread/8457342?answerId=8457342021#8457342021\">\\r\\n              <span class=\"hide-tablet-inline\">Jul 10, 2018 11:26 AM in response to YoAng</span>\\r\\n              <span class=\"show-tablet-inline\">In response to YoAng</span>\\r\\n            </a>\\r\\n          \\r\\n        </p>\\r\\n      \\r\\n\\r\\n      <div class=\"post-body\" data-action=\"content-post-body\">\\r\\n        \\r\\n\\r\\n        <div data-action=\"content-post-body-content\" class=\"content-post-body-content\" tabindex=\"-1\" data-analytics=\"content:post:body\" >\\r\\n          <p>See <a href=\"https://discussions.apple.com/docs/DOC-10101\">Corrupt iPod Classic</a>. What are your HDD stats? Use the recovery advice to copy off content that is on your device but not in your library.</p>\\n<p><br></p>\\n<p>tt2</p>\\r\\n        </div>\\r\\n\\r\\n        <div class=\"post-content-toggle\">\\r\\n          <button class=\"post-content-toggle-button\" data-action=\"content-post-toggle-button\">\\r\\n            <span class=\"more-label\" aria-label=\"Show post content\">More</span>\\r\\n            <span class=\"less-label\" aria-label=\"Hide post content\">Less</span>\\r\\n          </button>\\r\\n        </div>\\r\\n      </div>\\r\\n\\r\\n      \\r\\n\\r\\n      \\r\\n        <p class=\"timestamp show-tablet\">\\r\\n          \\r\\n            \\r\\n              Jul 10, 2018 11:26 AM\\r\\n            \\r\\n          \\r\\n        </p>\\r\\n      \\r\\n\\r\\n      <div class=\"action-bar\">\\r\\n        \\r\\n\\r\\n        \\r\\n\\r\\n        \\r\\n          <a class=\"button button-black\"  href=\"/login.jspa?replyId=33616713\" data-analytics=\"content:post:action:reply:link\">Reply</a>\\r\\n          <a class=\"button button-white\" href=\"/guest-helpful.jspa?guestHelpfulObjectID=33616713&guestHelpfulObjectType=2\">Helpful</a>\\r\\n          \\n\\n\\n  \\n    \\n\\n<div class=\"dropdown\" data-action=\"content-post-drop-down\" data-analytics=\"content:post:actions:drop-down\">\\n  \\n\\n  \\n    <button class=\"button button-white drop-down-button arrow interactive\" aria-haspopup=\"true\" aria-expanded=\"false\" data-action=\"drop-down-button\">\\n      <span class=\"icon icon-paddledown\"></span>\\n      <span class=\"a11y\">Thread reply - more options</span>\\n    </button>\\n  \\n\\n  \\n\\n  \\n\\n  \\n\\n  \\n    \\n      \\n\\n<ul class=\"drop-down-menu arrow hidden right\" data-analytics=\"content:post:actions:drop-down\"   data-action=\"drop-down-menu\" role=\"menu\">\\n  \\n    <li class=\"menu-item\" role=\"presentation\"><a class=\"menu-item-link\" href=\"/thread/8457342?answerId&#x3D;33616713022#33616713022\">Link to this Post</a></li>\\n  \\n</ul>\\n\\n    \\n  \\n</div>\\n  \\n\\n\\r\\n        \\r\\n\\r\\n        \\r\\n      </div>\\r\\n    </div>\\r\\n  </div>\\r\\n</article>\\r\\n\\n    \\n  \\n\\n\\n\\n          </div>\\n          \\n            \\n              <div class=\"bottom-pagination\">\\n                \\n\\n<nav class=\"pagination\" data-action=\"pagination\" role=\"navigation\" aria-label=\"Pagination\" data-current-page=\"1\" data-total-pages=\"1\">\\n  <ol class=\"pagination-list\" role=\"presentation\">\\n    <li>\\n      <a class=\"first-page hidden\" href=\"/thread/8457342\" aria-label=\"First page\" data-action=\"pagination-first\" role=\"button\">\\n        first\\n      </a>\\n    </li>\\n\\n    <li>\\n      <a class=\"previous-page icon icon-standalone icon-chevronleft hidden\" role=\"button\" href=\"#\" aria-label=\"Previous page\" data-action=\"pagination-prev\">\\n      </a>\\n    </li>\\n\\n    <li>\\n      <span class=\"page-number\" role=\"text\" aria-label=\"Page 1 of 1\">\\n        \\n          <span class=\"hide-mobile-inline-block\" data-action=\"pagination-page-number-text\">\\n            Page 1 of 1\\n          </span>\\n          <span class=\"hide-desktop-inline-block\" data-action=\"pagination-page-number-text-mobile\">\\n            Page 1/1\\n          </span>\\n        \\n      </span>\\n    </li>\\n\\n    <li>\\n      <a class=\"next-page icon icon-standalone icon-chevronright hidden\" role=\"button\" data-action=\"pagination-next\" href=\"?page=2\" aria-label=\"Next page\">\\n      </a>\\n    </li>\\n\\n    \\n      <li>\\n        <a class=\"last-page hidden\" href=\"?page=1\" aria-label=\"Last page\" role=\"button\" data-action=\"pagination-last\">\\n          last\\n        </a>\\n      </li>\\n    \\n  </ol>\\n</nav>\\n\\n\\n  \\n\\n\\n              </div>\\n            \\n          \\n        </section>\\n\\n        <section class=\"persist-question\" data-action=\"persist-question\" role=\"region\" aria-label=\"Question summary\" data-analytics-id=\"8457342\">\\n\\t<button class=\"icon icon-close\" data-action=\"persist-question-close\" aria-label=\"Close\"></button>\\n\\t<div class=\"content\">\\n\\t\\t\\n\\n<a href=\"/people/YoAng\" class=\"user-avatar\" data-action=\"common-user-avatar\" data-user-id=\"dcd8ae29a5722fe\">\\n  <span class=\"a11y\">\\n    User profile for user: YoAng\\n  </span>\\n  <img src=\"/public/assets/avatars/SYSTEM_DEFAULT_AVATAR_EN_8999.png\" class=\"avatar\" alt=\"\" aria-hidden=\"true\">\\n</a>\\n\\t\\t<p class=\"title\">\\n\\t\\t\\t<span class=\"a11y\">Question:</span>\\n\\t\\t\\t<span class=\"drop-cap\" aria-hidden=\"true\">Q:</span>\\n\\t\\t\\t<span data-action=\"persist-question-text\" tabindex=\"-1\" class=\"persist-question-text\">Ipod classic has more songs than my Itunes library and also some of my songs jump to the next song</span>\\n\\t\\t\\t<button class=\"persist-question-toggler hidden\" data-action=\"persist-question-toggler\">\\n\\t\\t\\t\\t<span class=\"more-label\" aria-label=\"More content\">More</span>\\n\\t\\t\\t\\t<span class=\"less-label\" aria-label=\"Less content\">Less</span>\\n\\t\\t\\t</button>\\n\\t\\t</p>\\n\\t</div>\\n</section>\\n\\n        \\n      </div>\\n    </main>\\n    <script src=\"/public/compiled/pages/thread.js\" type=\"text/javascript\" defer></script>\\n    \\n    \\n  \\n    </div>\\n\\n    <footer id=\"ac-globalfooter\" lang=\"en-US\" data-analytics-region=\"global footer\" role=\"contentinfo\" aria-labelledby=\"ac-gf-label\">\\n\\n    <div class=\"ac-gf-content\">\\n\\n        <h2 class=\"ac-gf-label\" id=\"ac-gf-label\">Apple Footer</h2>\\n\\n        <section class=\"ac-gf-sosumi\">\\n            <ul>\\n                <li>\\n                    This site contains user submitted content, comments and opinions and is for informational purposes only. Apple may provide or recommend responses as a possible solution based on the information provided; every potential issue may involve several factors not detailed in the conversations captured in an electronic forum and Apple can therefore provide no guarantee as to the efficacy of any proposed solutions on the community forums. Apple disclaims any and all liability for the acts, omissions and conduct of any third parties in connection with or related to your use of the site. All postings and use of the content on this site are subject to the\\n                    <a href=\"/docs/DOC-5952\">Apple Support Communities Terms of Use</a>.\\n\\n                </li>\\n            </ul>\\n        </section>\\n\\n        <nav class=\"ac-gf-breadcrumbs\" aria-label=\"Breadcrumbs\" role=\"navigation\">\\n            <a href=\"//www.apple.com\" class=\"home ac-gf-breadcrumbs-home\">\\n                <span class=\"ac-gf-breadcrumbs-home-icon\" aria-hidden=\"true\">\\xef\\xa3\\xbf</span>\\n                <span class=\"ac-gf-breadcrumbs-home-label\">Apple</span>\\n                <span class=\"ac-gf-breadcrumbs-home-chevron\"></span>\\n                <span class=\"ac-gf-breadcrumbs-home-mask\"></span>\\n            </a>\\n            <div class=\"ac-gf-breadcrumbs-path\">\\n                <ol class=\"ac-gf-breadcrumbs-list\">\\n                    <li class=\"ac-gf-breadcrumbs-item\">\\n                        <a class=\"ac-gf-breadcrumbs-link\" href=\"https://www.apple.com/support/\">Support</a>\\n                    </li>\\n                    <li class=\"ac-gf-breadcrumbs-item\">\\n                        <a class=\"ac-gf-breadcrumbs-link\" href=\"/\">Communities</a>\\n                    </li>\\n                </ol>\\n            </div>\\n        </nav>\\n\\n\\n        <section class=\"ac-gf-footer\">\\n            <div class=\"ac-gf-footer-shop\" x-ms-format-detection=\"none\">\\n                More ways to shop: Visit an <a href=\"//www.apple.com/retail/\">Apple Store</a>, <span class=\"nowrap\">call 1-800-MY-APPLE, or <a href=\"https://locate.apple.com/\">find a reseller</a></span>.\\n            </div>\\n            <div class=\"ac-gf-footer-locale\">\\n                <a class=\"ac-gf-footer-locale-link\" href=\"/choose-country-region\" title=\"Choose your country or region\" aria-label=\"United States. Choose your country or region\"><span class=\"ac-gf-footer-locale-flag\" data-hires=\"false\"></span>United States</a>\\n            </div>\\n            <div class=\"ac-gf-footer-legal\">\\n                <div class=\"ac-gf-footer-legal-copyright\">Copyright \\xc2\\xa9 <script>document.write(new Date().getFullYear());</script> Apple Inc. All rights reserved.</div>\\n                <div class=\"ac-gf-footer-legal-links\">\\n                    <a class=\"ac-gf-footer-legal-link\" href=\"//www.apple.com/privacy/privacy-policy/\">Privacy Policy</a>\\n                    <a class=\"ac-gf-footer-legal-link\" href=\"//www.apple.com/legal/internet-services/terms/site.html\">Terms of Use</a>\\n                    <a class=\"ac-gf-footer-legal-link\" href=\"//www.apple.com/us/shop/goto/help/sales_refunds\">Sales and Refunds</a>\\n                    <a class=\"ac-gf-footer-legal-link\" href=\"//www.apple.com/legal/\">Legal</a>\\n                    <a class=\"ac-gf-footer-legal-link\" href=\"//www.apple.com/sitemap/\">Site Map</a>\\n                </div>\\n            </div>\\n        </section>\\n\\n\\n    </div>\\n</footer>\\n\\n\\n    \\n    <div class=\"mobile-search\" role=\"dialog\" tabindex=\"-1\">\\n  <button class=\"icon icon-close\" aria-label=\"Close\" data-action=\"close-mobile-search\"></button>\\n  <form action=\"/search.jspa\" class=\"search-form-mobile\" method=\"GET\" data-action=\"mobile-search-form\" novalidate=\"novalidate\">\\n    <label for=\"askaquestion-mobile\">Ask a question</label>\\n    <input type=\"text\" aria-required=\"true\" id=\"askaquestion-mobile\" name=\"q\" required autocomplete=\"off\" autocorrect=\"off\" autocapitalize=\"off\" spellcheck=\"false\" maxlength=\"250\" placeholder=\"Search or ask a question\" aria-invalid=\"false\" data-action=\"mobile-search\" tabindex=\"0\" aria-controls=\"search-aria-live-mobile\">\\n    <button class=\"icon icon-close reset-button hidden\" data-action=\"mobile-reset\">\\n      <span class=\"a11y\">Reset</span>\\n    </button>\\n  </form>\\n</div>\\n\\n\\n    <script>\\n  var _store = {\\n    \\'lang\\': \\'en\\',\\n    \\'basePath\\': \\'\\',\\n    \\'user\\': {\\n      \\'loggedIn\\': \\'false\\' == \\'true\\',\\n      \\'userLevel\\': \\'\\',\\n      \\'userId\\': \\'\\',\\n      \\'legacyId\\': \\'\\'\\n    },\\n    \\'analytics\\': {\\n      \\'pageAnnouncement\\': \\'no announcement\\'\\n    },\\n    \\'_i18n\\': {\\n      // search\\n      \\'common.search.searching\\': \\'Searching for similar questions and communities\\',\\n      \\'common.search.results.notFound\\': \\'We did not find a similar question in the community\\',\\n      \\'common.search.results.submit\\': \\'Ask the community\\',\\n      \\'common.search.results.titles.communities\\': \\'Communities\\',\\n      \\'common.search.results.titles.discussions\\': \\'Discussions\\',\\n      \\'common.search.results.viewAll\\': \\'We found {0} similar questions\\',\\n      \\'common.search.results.by\\': \\'By\\',\\n      \\'common.post.search.searching\\': \\'Searching for similar communities\\',\\n      \\'common.post.search.notFound\\': \\'No matching community found. Please try another search term.\\',\\n      \\'common.post.search.results\\': \\'Search Results\\',\\n\\n      // popup\\n      \\'common.user.a11y.closePopup\\': \\'Close user profile\\',\\n      \\'common.user.a11y.avatar\\': \\'User avatar\\',\\n      \\'common.user.a11y.userInfo\\': \\'User profile information for user:\\',\\n      \\'common.user.a11y.level\\': \\'User level:\\',\\n      \\'common.user.a11y.userLevel\\': \\'User level:\\',\\n      \\'common.user.a11y.user\\': \\'User\\',\\n      \\'common.user.a11y.awardAchieved\\': \\'Award achieved\\',\\n      \\'common.user.a11y.awardNotAchieved\\': \\'Award not achieved yet\\',\\n      \\'common.user.a11y.expertiseLevel\\': \\'Speciality level out of ten:\\',\\n      \\'common.email\\': \\'Email\\',\\n      \\'common.user.location\\': \\'Location\\',\\n      \\'common.user.points.name\\': \\'points\\',\\n      \\'common.user.expertise.name\\': \\'Specialties\\',\\n      \\'common.user.expertise.viewAll\\': \\'More specialties\\',\\n      \\'common.user.expertise.learnMore\\': \\'Learn about specialties...\\',\\n      \\'common.user.awards.name\\': \\'Awards\\',\\n      \\'common.user.settings.title\\': \\'Personal Settings\\',\\n      \\'common.user.settings.manageSubscriptions\\': \\'Manage Subscriptions\\',\\n      \\'common.user.settings.changePhoto\\': \\'Change photo &amp; avatar\\',\\n      \\'common.user.settings.editProfile\\': \\'Edit profile &amp; privacy\\',\\n      \\'common.user.settings.preferences\\': \\'Preferences\\',\\n      \\'common.user.settings.logOut\\': \\'Log out\\',\\n      \\'common.viewProfile\\': \\'View profile\\',\\n      \\'common.follow\\': \\'Follow\\',\\n      \\'common.following\\': \\'Following\\',\\n      \\'link.TSpecialities\\': \\'/docs/DOC-9254\\',\\n      \\'link.TAwards\\': \\'/docs/DOC-9253\\',\\n      \\'common.user.groups.users\\': \\'Level\\',\\n      \\'common.user.groups.operations\\': \\'Community Operations\\',\\n      \\'common.user.groups.specialists\\': \\'Community Specialist\\',\\n      \\'common.user.groups.managers\\': \\'Community Manager\\',\\n      \\'common.user.groups.hosts\\': \\'Community Host\\',\\n      \\'common.user.groups.devOps\\': \\'Community DevOps\\',\\n\\n      // Error\\n      \\'common.error.serviceDown\\': \\'We encountered an error while loading this data. Please try again later.\\',\\n      \\'errorPage.type\\': \\'\\',\\n      \\'common.error.title\\': \\'We\\xe2\\x80\\x99re sorry.\\',\\n      \\'common.error.pageAjaxFailed\\': \\'An error occurred while loading this page. Please reload the page or try again later.\\',\\n      \\'common.error.componentAjaxFailed\\': \\'An error occurred while loading this information. Please reload the page or try again later.\\',\\n\\n      // Timestamps\\n      \\'common.timestamp.justNow\\': \\'less than a minute ago\\',\\n      \\'common.timestamp.minuteAgo\\': \\'1 minute ago\\',\\n      \\'common.timestamp.minutesAgo\\': \\'{0} minutes ago\\',\\n      \\'common.timestamp.hourAgo\\': \\'1 hour ago\\',\\n      \\'common.timestamp.hoursAgo\\': \\'{0} hours ago\\',\\n      \\'common.timestamp.dayAgo\\': \\'1 day ago\\',\\n      \\'common.timestamp.daysAgo\\': \\'{0} days ago\\',\\n      \\'common.timestamp.weekAgo\\': \\'1 week ago\\',\\n      \\'common.timestamp.weeksAgo\\': \\'{0} weeks ago\\',\\n      \\'common.timestamp.monthAgo\\': \\'1 month ago\\',\\n      \\'common.timestamp.monthsAgo\\': \\'{0} months ago\\',\\n      \\'common.timestamp.yearAgo\\': \\'1 year ago\\',\\n      \\'common.timestamp.yearsAgo\\': \\'{0} years ago\\',\\n\\n      // Aria live\\n      \\'common.pagination.a11y.ariaLive.loading\\': \\'Loading page content\\',\\n      \\'common.pagination.a11y.ariaLive.loaded\\': \\'Page content loaded\\',\\n\\n      // Pagination\\n      \\'common.pagination.page\\': \\'Page {0}\\',\\n      \\'common.pagination.pageOf\\': \\'Page {0} of {1}\\',\\n      \\'common.pagination.pageOfMobile\\': \\'Page {0}/{1}\\',\\n\\n      // Subcommunity\\n      \\'subCommunity.leaderBoard.community\\': \\'\\',\\n      \"subCommunity.subCommunityId\": \\'\\',\\n\\n      // Articles\\n      \"article.articleId\": \\'\\',\\n\\n      // Filters layout\\n      \"common.and\": \\'and\\',\\n\\n      //Search page\\n      \"search.totalResult\": \\'1 result found\\',\\n      \"search.totalResults\": \\'{0} results found\\',\\n      \"common.error.noUsers\": \\'No users found.\\',\\n\\n      // Signup page\\n      \"signup.prompt.valid\": \\'Your username will be visible to the community, and you can\\xe2\\x80\\x99t change it after you create it. \\',\\n      \"signup.prompt.blank\": \\'You can use letters, numbers, _underscores, and - dashes. We recommend that you don\\xe2\\x80\\x99t use personal information.\\',\\n      \"signup.prompt.error.length\": \\'You can use letters, numbers, _underscores, and - dashes. We recommend that you don\\xe2\\x80\\x99t use personal information.\\',\\n      \"signup.prompt.error.validUserName\": \\'You can use letters, numbers, _underscores, and - dashes. We recommend that you don\\xe2\\x80\\x99t use personal information.\\',\\n      \"signup.prompt.error.noSpace\": \\'Usernames can\\xe2\\x80\\x99t contain spaces.\\',\\n      \"signup.prompt.error.noConsecutiveDigits\": \\'Usernames can\\xe2\\x80\\x99t have five consecutive numbers.\\',\\n      \"signup.prompt.error.noBlockednProfanity\": \\'Apple doesn\\xe2\\x80\\x99t allow profanities or certain words in usernames.\\',\\n      \"signup.prompt.error.notAvailable\": \\'That username is taken.\\',\\n      \"signup.prompt.warning.noFirstnLastName\": \\'Your username will be visible to the community, and you can\\xe2\\x80\\x99t change it. We recommend that you don\\xe2\\x80\\x99t use personal information.\\',\\n      \"signup.prompt.valid.a11y\": \\'Username available.\\',\\n      //Browse page report popup\\n      \"common.popup.report.title\": \\'Report post\\',\\n      \"common.popup.report.reason.question\": \\'What is the primary reason you are reporting this message?\\',\\n      \"common.popup.report.reason.options.inappropiatePost\": \\'Inappropiate post\\',\\n      \"common.popup.report.reason.options.duplicatePost\": \\'Duplicate post\\',\\n      \"common.popup.report.reason.options.editPost\": \\'Edit post\\',\\n      \"common.popup.report.reason.options.usernameOrProfile\": \\'Username or profile issue\\',\\n      \"common.popup.report.reason.options.relocatePost\": \\'Relocate Post\\',\\n      \"common.popup.report.reason.options.other\": \\'Other\\',\\n      \"common.popup.report.reason.options.spam\": \\'Spam\\',\\n      \"common.popup.report.comment.title\": \\'Additional Comments\\',\\n      \"common.popup.report.actions.submit\": \\'Report Post\\',\\n      \"common.popup.close\": \\'Close\\',\\n      \"common.actions.cancel\": \\'Cancel\\'\\n    },\\n    i18n: function(key) {\\n      if (key === \\'all\\') return this._i18n;\\n      else if (this._i18n[key]) return this._i18n[key];\\n      return key;\\n    }\\n  };\\n</script>\\n\\n    \\n      <input id=\"http-request-id\" type=\"text\" style=\"display:none;\" value=\"e3dcdee9-1d3c-48ed-8c66-ca24455803ef\"/>\\n    \\n    <script src=\"/public/scripts/dtml.js\" type=\"text/javascript\"></script>\\n    <script src=\"/public/compiled/decorator.js\" type=\"text/javascript\" defer></script>\\n    <script type=\"text/javascript\" async src=\"//www.apple.com/ac/globalnav/3/en_US/scripts/ac-globalnav.built.js\"></script>\\n  </body>\\n</html>\\n'\n"
     ]
    }
   ],
   "source": [
    "import urllib.request\n",
    "response = urllib.request.urlopen('https://discussions.apple.com/thread/8457342')\n",
    "html = response.read()\n",
    "print (html)"
   ]
  },
  {
   "cell_type": "markdown",
   "metadata": {},
   "source": [
    "sample = \"\"\"<h1>Title Goes Here</h1>\n",
    "<b>Bolded Text</b>\n",
    "<i>Italicized Text</i>\n",
    "<img src=\"this should all be gone\"/>\n",
    "<a href=\"this will be gone, too\">But this will still be here!</a>\n",
    "I run. He ran. She is running. Will they stop running?\n",
    "I talked. She was talking. They talked to them about running. Who ran to the talking runner?\n",
    "[Some text we don't want to keep is in here]\n",
    "¡Sebastián, Nicolás, Alejandro and Jéronimo are going to the store tomorrow morning!\n",
    "something... is! wrong() with.,; this :: sentence.\n",
    "I can't do this anymore. I didn't know them. Why couldn't you have dinner at the restaurant?\n",
    "My favorite movie franchises, in order: Indiana Jones; Marvel Cinematic Universe; Star Wars; Back to the Future; Harry Potter.\n",
    "Don't do it.... Just don't. Billy! I know what you're doing. This is a great little house you've got here.\n",
    "[This is some other unwanted text]\n",
    "John: \"Well, well, well.\"\n",
    "James: \"There, there. There, there.\"\n",
    "&nbsp;&nbsp;\n",
    "There are a lot of reasons not to do this. There are 101 reasons not to do it. 1000000 reasons, actually.\n",
    "I have to go get 2 tutus from 2 different stores, too.\n",
    "22    45   1067   445\n",
    "{{Here is some stuff inside of double curly braces.}}\n",
    "{Here is more stuff in single curly braces.}\n",
    "[DELETE]\n",
    "</body>\n",
    "</html>\"\"\""
   ]
  },
  {
   "cell_type": "code",
   "execution_count": 25,
   "metadata": {},
   "outputs": [
    {
     "data": {
      "text/plain": [
       "str"
      ]
     },
     "execution_count": 25,
     "metadata": {},
     "output_type": "execute_result"
    }
   ],
   "source": [
    "type(sample)"
   ]
  },
  {
   "cell_type": "code",
   "execution_count": 19,
   "metadata": {},
   "outputs": [
    {
     "name": "stdout",
     "output_type": "stream",
     "text": [
      "Title Goes Here\n",
      "Bolded Text\n",
      "Italicized Text\n",
      "\n",
      "But this will still be here!\n",
      "I run. He ran. She is running. Will they stop running?\n",
      "I talked. She was talking. They talked to them about running. Who ran to the talking runner?\n",
      "\n",
      "¡Sebastián, Nicolás, Alejandro and Jéronimo are going to the store tomorrow morning!\n",
      "something... is! wrong() with.,; this :: sentence.\n",
      "I can't do this anymore. I didn't know them. Why couldn't you have dinner at the restaurant?\n",
      "My favorite movie franchises, in order: Indiana Jones; Marvel Cinematic Universe; Star Wars; Back to the Future; Harry Potter.\n",
      "Don't do it.... Just don't. Billy! I know what you're doing. This is a great little house you've got here.\n",
      "\n",
      "John: \"Well, well, well.\"\n",
      "James: \"There, there. There, there.\"\n",
      "  \n",
      "There are a lot of reasons not to do this. There are 101 reasons not to do it. 1000000 reasons, actually.\n",
      "I have to go get 2 tutus from 2 different stores, too.\n",
      "22    45   1067   445\n",
      "{{Here is some stuff inside of double curly braces.}}\n",
      "{Here is more stuff in single curly braces.}\n",
      "\n",
      "\n",
      "\n"
     ]
    }
   ],
   "source": [
    "def strip_html(text):\n",
    "    soup = BeautifulSoup(text, \"html.parser\")\n",
    "    return soup.get_text()\n",
    "\n",
    "def remove_between_square_brackets(text):\n",
    "    return re.sub('\\[[^]]*\\]', '', text)\n",
    "\n",
    "def denoise_text(text):\n",
    "    text = strip_html(text)\n",
    "    text = remove_between_square_brackets(text)\n",
    "    return text\n",
    "\n",
    "sample = denoise_text(sample)\n",
    "print(sample)"
   ]
  },
  {
   "cell_type": "code",
   "execution_count": 20,
   "metadata": {},
   "outputs": [
    {
     "name": "stdout",
     "output_type": "stream",
     "text": [
      "['Title', 'Goes', 'Here', 'Bolded', 'Text', 'Italicized', 'Text', 'But', 'this', 'will', 'still', 'be', 'here', '!', 'I', 'run', '.', 'He', 'ran', '.', 'She', 'is', 'running', '.', 'Will', 'they', 'stop', 'running', '?', 'I', 'talked', '.', 'She', 'was', 'talking', '.', 'They', 'talked', 'to', 'them', 'about', 'running', '.', 'Who', 'ran', 'to', 'the', 'talking', 'runner', '?', '¡Sebastián', ',', 'Nicolás', ',', 'Alejandro', 'and', 'Jéronimo', 'are', 'going', 'to', 'the', 'store', 'tomorrow', 'morning', '!', 'something', '...', 'is', '!', 'wrong', '(', ')', 'with.', ',', ';', 'this', ':', ':', 'sentence', '.', 'I', 'ca', \"n't\", 'do', 'this', 'anymore', '.', 'I', 'did', \"n't\", 'know', 'them', '.', 'Why', 'could', \"n't\", 'you', 'have', 'dinner', 'at', 'the', 'restaurant', '?', 'My', 'favorite', 'movie', 'franchises', ',', 'in', 'order', ':', 'Indiana', 'Jones', ';', 'Marvel', 'Cinematic', 'Universe', ';', 'Star', 'Wars', ';', 'Back', 'to', 'the', 'Future', ';', 'Harry', 'Potter', '.', 'Do', \"n't\", 'do', 'it', '...', '.', 'Just', 'do', \"n't\", '.', 'Billy', '!', 'I', 'know', 'what', 'you', \"'re\", 'doing', '.', 'This', 'is', 'a', 'great', 'little', 'house', 'you', \"'ve\", 'got', 'here', '.', 'John', ':', '``', 'Well', ',', 'well', ',', 'well', '.', \"''\", 'James', ':', '``', 'There', ',', 'there', '.', 'There', ',', 'there', '.', \"''\", 'There', 'are', 'a', 'lot', 'of', 'reasons', 'not', 'to', 'do', 'this', '.', 'There', 'are', '101', 'reasons', 'not', 'to', 'do', 'it', '.', '1000000', 'reasons', ',', 'actually', '.', 'I', 'have', 'to', 'go', 'get', '2', 'tutus', 'from', '2', 'different', 'stores', ',', 'too', '.', '22', '45', '1067', '445', '{', '{', 'Here', 'is', 'some', 'stuff', 'inside', 'of', 'double', 'curly', 'braces', '.', '}', '}', '{', 'Here', 'is', 'more', 'stuff', 'in', 'single', 'curly', 'braces', '.', '}']\n"
     ]
    }
   ],
   "source": [
    "words = nltk.word_tokenize(sample)\n",
    "print(words)"
   ]
  },
  {
   "cell_type": "code",
   "execution_count": 21,
   "metadata": {},
   "outputs": [
    {
     "name": "stdout",
     "output_type": "stream",
     "text": [
      "['title', 'goes', 'bolded', 'text', 'italicized', 'text', 'still', 'run', 'ran', 'running', 'stop', 'running', 'talked', 'talking', 'talked', 'running', 'ran', 'talking', 'runner', 'sebastian', 'nicolas', 'alejandro', 'jeronimo', 'going', 'store', 'tomorrow', 'morning', 'something', 'wrong', 'sentence', 'ca', 'nt', 'anymore', 'nt', 'know', 'could', 'nt', 'dinner', 'restaurant', 'favorite', 'movie', 'franchises', 'order', 'indiana', 'jones', 'marvel', 'cinematic', 'universe', 'star', 'wars', 'back', 'future', 'harry', 'potter', 'nt', 'nt', 'billy', 'know', 'great', 'little', 'house', 'got', 'john', 'well', 'well', 'well', 'james', 'lot', 'reasons', 'one hundred and one', 'reasons', 'one million', 'reasons', 'actually', 'go', 'get', 'two', 'tutus', 'two', 'different', 'stores', 'twenty-two', 'forty-five', 'one thousand and sixty-seven', 'four hundred and forty-five', 'stuff', 'inside', 'double', 'curly', 'braces', 'stuff', 'single', 'curly', 'braces']\n"
     ]
    }
   ],
   "source": [
    "def remove_non_ascii(words):\n",
    "    \"\"\"Remove non-ASCII characters from list of tokenized words\"\"\"\n",
    "    new_words = []\n",
    "    for word in words:\n",
    "        new_word = unicodedata.normalize('NFKD', word).encode('ascii', 'ignore').decode('utf-8', 'ignore')\n",
    "        new_words.append(new_word)\n",
    "    return new_words\n",
    "\n",
    "def to_lowercase(words):\n",
    "    \"\"\"Convert all characters to lowercase from list of tokenized words\"\"\"\n",
    "    new_words = []\n",
    "    for word in words:\n",
    "        new_word = word.lower()\n",
    "        new_words.append(new_word)\n",
    "    return new_words\n",
    "\n",
    "def remove_punctuation(words):\n",
    "    \"\"\"Remove punctuation from list of tokenized words\"\"\"\n",
    "    new_words = []\n",
    "    for word in words:\n",
    "        new_word = re.sub(r'[^\\w\\s]', '', word)\n",
    "        if new_word != '':\n",
    "            new_words.append(new_word)\n",
    "    return new_words\n",
    "\n",
    "def replace_numbers(words):\n",
    "    \"\"\"Replace all interger occurrences in list of tokenized words with textual representation\"\"\"\n",
    "    p = inflect.engine()\n",
    "    new_words = []\n",
    "    for word in words:\n",
    "        if word.isdigit():\n",
    "            new_word = p.number_to_words(word)\n",
    "            new_words.append(new_word)\n",
    "        else:\n",
    "            new_words.append(word)\n",
    "    return new_words\n",
    "\n",
    "def remove_stopwords(words):\n",
    "    \"\"\"Remove stop words from list of tokenized words\"\"\"\n",
    "    new_words = []\n",
    "    for word in words:\n",
    "        if word not in stopwords.words('english'):\n",
    "            new_words.append(word)\n",
    "    return new_words\n",
    "\n",
    "def stem_words(words):\n",
    "    \"\"\"Stem words in list of tokenized words\"\"\"\n",
    "    stemmer = LancasterStemmer()\n",
    "    stems = []\n",
    "    for word in words:\n",
    "        stem = stemmer.stem(word)\n",
    "        stems.append(stem)\n",
    "    return stems\n",
    "\n",
    "def lemmatize_verbs(words):\n",
    "    \"\"\"Lemmatize verbs in list of tokenized words\"\"\"\n",
    "    lemmatizer = WordNetLemmatizer()\n",
    "    lemmas = []\n",
    "    for word in words:\n",
    "        lemma = lemmatizer.lemmatize(word, pos='v')\n",
    "        lemmas.append(lemma)\n",
    "    return lemmas\n",
    "\n",
    "def normalize(words):\n",
    "    words = remove_non_ascii(words)\n",
    "    words = to_lowercase(words)\n",
    "    words = remove_punctuation(words)\n",
    "    words = replace_numbers(words)\n",
    "    words = remove_stopwords(words)\n",
    "    return words\n",
    "\n",
    "words = normalize(words)\n",
    "print(words)"
   ]
  },
  {
   "cell_type": "code",
   "execution_count": 22,
   "metadata": {},
   "outputs": [
    {
     "name": "stdout",
     "output_type": "stream",
     "text": [
      "Stemmed:\n",
      " ['titl', 'goe', 'bold', 'text', 'it', 'text', 'stil', 'run', 'ran', 'run', 'stop', 'run', 'talk', 'talk', 'talk', 'run', 'ran', 'talk', 'run', 'sebast', 'nicola', 'alejandro', 'jeronimo', 'going', 'stor', 'tomorrow', 'morn', 'someth', 'wrong', 'sent', 'ca', 'nt', 'anym', 'nt', 'know', 'could', 'nt', 'din', 'resta', 'favorit', 'movy', 'franch', 'ord', 'indian', 'jon', 'marvel', 'cinem', 'univers', 'star', 'war', 'back', 'fut', 'harry', 'pot', 'nt', 'nt', 'bil', 'know', 'gre', 'littl', 'hous', 'got', 'john', 'wel', 'wel', 'wel', 'jam', 'lot', 'reason', 'one hundred and on', 'reason', 'one million', 'reason', 'act', 'go', 'get', 'two', 'tut', 'two', 'diff', 'stor', 'twenty-two', 'forty-five', 'one thousand and sixty-seven', 'four hundred and forty-five', 'stuff', 'insid', 'doubl', 'cur', 'brac', 'stuff', 'singl', 'cur', 'brac']\n",
      "\n",
      "Lemmatized:\n",
      " ['title', 'go', 'bolded', 'text', 'italicize', 'text', 'still', 'run', 'run', 'run', 'stop', 'run', 'talk', 'talk', 'talk', 'run', 'run', 'talk', 'runner', 'sebastian', 'nicolas', 'alejandro', 'jeronimo', 'go', 'store', 'tomorrow', 'morning', 'something', 'wrong', 'sentence', 'ca', 'nt', 'anymore', 'nt', 'know', 'could', 'nt', 'dinner', 'restaurant', 'favorite', 'movie', 'franchise', 'order', 'indiana', 'jones', 'marvel', 'cinematic', 'universe', 'star', 'war', 'back', 'future', 'harry', 'potter', 'nt', 'nt', 'billy', 'know', 'great', 'little', 'house', 'get', 'john', 'well', 'well', 'well', 'jam', 'lot', 'reason', 'one hundred and one', 'reason', 'one million', 'reason', 'actually', 'go', 'get', 'two', 'tutus', 'two', 'different', 'store', 'twenty-two', 'forty-five', 'one thousand and sixty-seven', 'four hundred and forty-five', 'stuff', 'inside', 'double', 'curly', 'brace', 'stuff', 'single', 'curly', 'brace']\n"
     ]
    }
   ],
   "source": [
    "def stem_and_lemmatize(words):\n",
    "    stems = stem_words(words)\n",
    "    lemmas = lemmatize_verbs(words)\n",
    "    return stems, lemmas\n",
    "\n",
    "stems, lemmas = stem_and_lemmatize(words)\n",
    "print('Stemmed:\\n', stems)\n",
    "print('\\nLemmatized:\\n', lemmas)"
   ]
  },
  {
   "cell_type": "markdown",
   "metadata": {},
   "source": [
    "# Other proprocessing"
   ]
  },
  {
   "cell_type": "code",
   "execution_count": null,
   "metadata": {},
   "outputs": [],
   "source": [
    "def process_message(message, lower_case = True, stem = True, stop_words = True, gram = 2):\n",
    "    if lower_case:\n",
    "        message = message.lower()\n",
    "    words = word_tokenize(message)\n",
    "    words = [w for w in words if len(w) > 2]\n",
    "    if gram > 1:\n",
    "        w = []\n",
    "        for i in range(len(words) - gram + 1):\n",
    "            w += [' '.join(words[i:i + gram])]\n",
    "        return w\n",
    "    if stop_words:\n",
    "        sw = stopwords.words('english')\n",
    "        words = [word for word in words if word not in sw]\n",
    "    if stem:\n",
    "        stemmer = PorterStemmer()\n",
    "        words = [stemmer.stem(word) for word in words]   \n",
    "    return words"
   ]
  },
  {
   "cell_type": "markdown",
   "metadata": {},
   "source": [
    "# Spam Classifier"
   ]
  },
  {
   "cell_type": "code",
   "execution_count": 24,
   "metadata": {},
   "outputs": [],
   "source": [
    " def calc_prob(self):\n",
    "        self.prob_spam = dict()\n",
    "        self.prob_ham = dict()\n",
    "        for word in self.tf_spam:\n",
    "            self.prob_spam[word] = (self.tf_spam[word] + 1) / (self.spam_words + \\\n",
    "                                                                len(list(self.tf_spam.keys())))\n",
    "        for word in self.tf_ham:\n",
    "            self.prob_ham[word] = (self.tf_ham[word] + 1) / (self.ham_words + \\\n",
    "                                                                len(list(self.tf_ham.keys())))\n",
    "        self.prob_spam_mail, self.prob_ham_mail = self.spam_mails / self.total_mails, self.ham_mails / self.total_mails "
   ]
  },
  {
   "cell_type": "code",
   "execution_count": null,
   "metadata": {},
   "outputs": [],
   "source": []
  },
  {
   "cell_type": "code",
   "execution_count": null,
   "metadata": {},
   "outputs": [],
   "source": []
  },
  {
   "cell_type": "code",
   "execution_count": null,
   "metadata": {},
   "outputs": [],
   "source": []
  },
  {
   "cell_type": "code",
   "execution_count": 23,
   "metadata": {},
   "outputs": [],
   "source": [
    "class SpamClassifier(object):\n",
    "    def __init__(self, trainData, method = 'tf-idf'):\n",
    "        self.mails, self.labels = trainData['message'], trainData['label']\n",
    "        self.method = method\n",
    "\n",
    "    def train(self):\n",
    "        self.calc_TF_and_IDF()\n",
    "        if self.method == 'tf-idf':\n",
    "            self.calc_TF_IDF()\n",
    "        else:\n",
    "            self.calc_prob()\n",
    "\n",
    "    def calc_prob(self):\n",
    "        self.prob_spam = dict()\n",
    "        self.prob_ham = dict()\n",
    "        for word in self.tf_spam:\n",
    "            self.prob_spam[word] = (self.tf_spam[word] + 1) / (self.spam_words + \\\n",
    "                                                                len(list(self.tf_spam.keys())))\n",
    "        for word in self.tf_ham:\n",
    "            self.prob_ham[word] = (self.tf_ham[word] + 1) / (self.ham_words + \\\n",
    "                                                                len(list(self.tf_ham.keys())))\n",
    "        self.prob_spam_mail, self.prob_ham_mail = self.spam_mails / self.total_mails, self.ham_mails / self.total_mails \n",
    "\n",
    "\n",
    "    def calc_TF_and_IDF(self):\n",
    "        noOfMessages = self.mails.shape[0]\n",
    "        self.spam_mails, self.ham_mails = self.labels.value_counts()[1], self.labels.value_counts()[0]\n",
    "        self.total_mails = self.spam_mails + self.ham_mails\n",
    "        self.spam_words = 0\n",
    "        self.ham_words = 0\n",
    "        self.tf_spam = dict()\n",
    "        self.tf_ham = dict()\n",
    "        self.idf_spam = dict()\n",
    "        self.idf_ham = dict()\n",
    "        for i in range(noOfMessages):\n",
    "            message_processed = process_message(self.mails[i])\n",
    "            count = list() #To keep track of whether the word has ocured in the message or not.\n",
    "                           #For IDF\n",
    "            for word in message_processed:\n",
    "                if self.labels[i]:\n",
    "                    self.tf_spam[word] = self.tf_spam.get(word, 0) + 1\n",
    "                    self.spam_words += 1\n",
    "                else:\n",
    "                    self.tf_ham[word] = self.tf_ham.get(word, 0) + 1\n",
    "                    self.ham_words += 1\n",
    "                if word not in count:\n",
    "                    count += [word]\n",
    "            for word in count:\n",
    "                if self.labels[i]:\n",
    "                    self.idf_spam[word] = self.idf_spam.get(word, 0) + 1\n",
    "                else:\n",
    "                    self.idf_ham[word] = self.idf_ham.get(word, 0) + 1\n",
    "\n",
    "    def calc_TF_IDF(self):\n",
    "        self.prob_spam = dict()\n",
    "        self.prob_ham = dict()\n",
    "        self.sum_tf_idf_spam = 0\n",
    "        self.sum_tf_idf_ham = 0\n",
    "        for word in self.tf_spam:\n",
    "            self.prob_spam[word] = (self.tf_spam[word]) * log((self.spam_mails + self.ham_mails) \\\n",
    "                                                          / (self.idf_spam[word] + self.idf_ham.get(word, 0)))\n",
    "            self.sum_tf_idf_spam += self.prob_spam[word]\n",
    "        for word in self.tf_spam:\n",
    "            self.prob_spam[word] = (self.prob_spam[word] + 1) / (self.sum_tf_idf_spam + len(list(self.prob_spam.keys())))\n",
    "            \n",
    "        for word in self.tf_ham:\n",
    "            self.prob_ham[word] = (self.tf_ham[word]) * log((self.spam_mails + self.ham_mails) \\\n",
    "                                                          / (self.idf_spam.get(word, 0) + self.idf_ham[word]))\n",
    "            self.sum_tf_idf_ham += self.prob_ham[word]\n",
    "        for word in self.tf_ham:\n",
    "            self.prob_ham[word] = (self.prob_ham[word] + 1) / (self.sum_tf_idf_ham + len(list(self.prob_ham.keys())))\n",
    "            \n",
    "    \n",
    "        self.prob_spam_mail, self.prob_ham_mail = self.spam_mails / self.total_mails, self.ham_mails / self.total_mails \n",
    "                    \n",
    "    def classify(self, processed_message):\n",
    "        pSpam, pHam = 0, 0\n",
    "        for word in processed_message:                \n",
    "            if word in self.prob_spam:\n",
    "                pSpam += log(self.prob_spam[word])\n",
    "            else:\n",
    "                if self.method == 'tf-idf':\n",
    "                    pSpam -= log(self.sum_tf_idf_spam + len(list(self.prob_spam.keys())))\n",
    "                else:\n",
    "                    pSpam -= log(self.spam_words + len(list(self.prob_spam.keys())))\n",
    "            if word in self.prob_ham:\n",
    "                pHam += log(self.prob_ham[word])\n",
    "            else:\n",
    "                if self.method == 'tf-idf':\n",
    "                    pHam -= log(self.sum_tf_idf_ham + len(list(self.prob_ham.keys()))) \n",
    "                else:\n",
    "                    pHam -= log(self.ham_words + len(list(self.prob_ham.keys())))\n",
    "            pSpam += log(self.prob_spam_mail)\n",
    "            pHam += log(self.prob_ham_mail)\n",
    "        return pSpam >= pHam\n",
    "    \n",
    "    def predict(self, testData):\n",
    "        result = dict()\n",
    "        for (i, message) in enumerate(testData):\n",
    "            processed_message = process_message(message)\n",
    "            result[i] = int(self.classify(processed_message))\n",
    "        return result"
   ]
  },
  {
   "cell_type": "code",
   "execution_count": null,
   "metadata": {},
   "outputs": [],
   "source": []
  },
  {
   "cell_type": "code",
   "execution_count": null,
   "metadata": {},
   "outputs": [],
   "source": []
  },
  {
   "cell_type": "code",
   "execution_count": null,
   "metadata": {},
   "outputs": [],
   "source": []
  },
  {
   "cell_type": "code",
   "execution_count": null,
   "metadata": {},
   "outputs": [],
   "source": []
  },
  {
   "cell_type": "code",
   "execution_count": null,
   "metadata": {},
   "outputs": [],
   "source": []
  },
  {
   "cell_type": "code",
   "execution_count": null,
   "metadata": {},
   "outputs": [],
   "source": []
  },
  {
   "cell_type": "code",
   "execution_count": null,
   "metadata": {},
   "outputs": [],
   "source": []
  },
  {
   "cell_type": "code",
   "execution_count": null,
   "metadata": {},
   "outputs": [],
   "source": []
  },
  {
   "cell_type": "code",
   "execution_count": null,
   "metadata": {},
   "outputs": [],
   "source": []
  },
  {
   "cell_type": "code",
   "execution_count": null,
   "metadata": {},
   "outputs": [],
   "source": []
  },
  {
   "cell_type": "code",
   "execution_count": null,
   "metadata": {},
   "outputs": [],
   "source": []
  },
  {
   "cell_type": "code",
   "execution_count": null,
   "metadata": {},
   "outputs": [],
   "source": []
  },
  {
   "cell_type": "code",
   "execution_count": null,
   "metadata": {},
   "outputs": [],
   "source": []
  }
 ],
 "metadata": {
  "kernelspec": {
   "display_name": "Python 3",
   "language": "python",
   "name": "python3"
  },
  "language_info": {
   "codemirror_mode": {
    "name": "ipython",
    "version": 3
   },
   "file_extension": ".py",
   "mimetype": "text/x-python",
   "name": "python",
   "nbconvert_exporter": "python",
   "pygments_lexer": "ipython3",
   "version": "3.6.5"
  }
 },
 "nbformat": 4,
 "nbformat_minor": 2
}
