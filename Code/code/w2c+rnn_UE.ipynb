{
 "cells": [
  {
   "cell_type": "code",
   "execution_count": 1,
   "metadata": {},
   "outputs": [
    {
     "name": "stderr",
     "output_type": "stream",
     "text": [
      "//anaconda/lib/python2.7/site-packages/pandas/computation/__init__.py:19: UserWarning: The installed version of numexpr 2.4.4 is not supported in pandas and will be not be used\n",
      "\n",
      "  UserWarning)\n",
      "Using Theano backend.\n"
     ]
    }
   ],
   "source": [
    "import numpy as np\n",
    "import pandas as pd\n",
    "import cPickle\n",
    "from collections import defaultdict\n",
    "import re\n",
    "\n",
    "import gensim\n",
    "\n",
    "from sklearn.cross_validation import StratifiedShuffleSplit\n",
    "from sklearn.metrics import roc_auc_score\n",
    "from sklearn.svm import SVC\n",
    "from sklearn.linear_model import LogisticRegression\n",
    "from sklearn.ensemble import RandomForestClassifier\n",
    "from sklearn.feature_extraction.text import TfidfVectorizer, CountVectorizer\n",
    "\n",
    "from sklearn.decomposition import TruncatedSVD\n",
    "\n",
    "import keras\n",
    "from keras.models import Sequential\n",
    "from keras.layers.core import Dense, Dropout, Activation, Flatten, Reshape\n",
    "from keras.layers.embeddings import Embedding\n",
    "from keras.layers.convolutional import Convolution2D, MaxPooling2D\n",
    "from keras.optimizers import Adadelta\n",
    "from keras.constraints import unitnorm\n",
    "from keras.regularizers import l2\n",
    "from keras.utils import np_utils\n",
    "from keras.layers import LSTM, SimpleRNN, GRU\n",
    "from keras import callbacks\n",
    "\n",
    "import lda\n",
    "\n",
    "import matplotlib.pyplot as plt\n",
    "\n",
    "from __future__ import division\n",
    "%matplotlib inline"
   ]
  },
  {
   "cell_type": "markdown",
   "metadata": {},
   "source": [
    "# LOAD DATA"
   ]
  },
  {
   "cell_type": "code",
   "execution_count": 2,
   "metadata": {},
   "outputs": [
    {
     "name": "stdout",
     "output_type": "stream",
     "text": [
      "loading data...\n",
      "data loaded!\n",
      "max_l should be set : 34\n"
     ]
    }
   ],
   "source": [
    "def get_idx_from_sent(sent, word_idx_map, max_l, kernel_size=5):\n",
    "    \"\"\"\n",
    "    Transforms sentence into a list of indices. Pad with zeroes.\n",
    "    \"\"\"\n",
    "    x = []\n",
    "    pad = kernel_size - 1\n",
    "    for i in xrange(pad):\n",
    "        x.append(0)\n",
    "    words = sent.split()\n",
    "    for word in words:\n",
    "        if word in word_idx_map:\n",
    "            x.append(word_idx_map[word])\n",
    "    while len(x) < max_l+2*pad:\n",
    "        x.append(0)\n",
    "    return x\n",
    "\n",
    "def make_idx_data(revs, word_idx_map, max_l, kernel_size=5):\n",
    "    \"\"\"\n",
    "    Transforms sentences into a 2-d matrix.\n",
    "    \"\"\"\n",
    "    train, val, test = [], [], []\n",
    "    for rev in revs:\n",
    "        sent = get_idx_from_sent(rev['text'], word_idx_map, max_l, kernel_size)\n",
    "        sent = sent+list(rev['ue'])# added\n",
    "        sent.append(rev['y'])\n",
    "        if rev['split'] == 1:\n",
    "            train.append(sent)\n",
    "        elif rev['split'] == 0:\n",
    "            val.append(sent)\n",
    "        else:\n",
    "            test.append(sent)\n",
    "    train = np.array(train, dtype=np.int)\n",
    "    val = np.array(val, dtype=np.int)\n",
    "    test = np.array(test, dtype=np.int)\n",
    "    return [train, val, test]\n",
    "\n",
    "# load data\n",
    "print \"loading data...\"\n",
    "x = cPickle.load(open(\"../data/twitter-train-val-test_ue.pickle\", \"rb\"))\n",
    "revs, W, word_idx_map, vocab = x[0], x[1], x[2], x[3]\n",
    "print \"data loaded!\"\n",
    "\n",
    "print 'max_l should be set :', np.max(pd.DataFrame(revs)['num_words'])  "
   ]
  },
  {
   "cell_type": "code",
   "execution_count": 3,
   "metadata": {
    "collapsed": true
   },
   "outputs": [],
   "source": [
    "datasets = make_idx_data(revs, word_idx_map, max_l=34, kernel_size=5)  #*** must set max_l"
   ]
  },
  {
   "cell_type": "code",
   "execution_count": 4,
   "metadata": {},
   "outputs": [
    {
     "name": "stdout",
     "output_type": "stream",
     "text": [
      "train_X.shape = (4003, 55)\n",
      "train_Y.shape = (4003, 2)\n",
      "----------------------------------------------------------\n",
      "val_X.shape = (997, 55)\n",
      "val_Y.shape = (997, 2)\n",
      "----------------------------------------------------------\n",
      "test_X.shape = (5000, 55)\n",
      "test_Y.shape = (5000, 2)\n",
      "----------------------------------------------------------\n",
      "number of sentences: 10000\n",
      "vocab size: 18154\n",
      "max sentence length: 34\n",
      "W shape (18155, 500)\n",
      "word_idx_map length 18154\n",
      "conv_input_height 55\n",
      "conv_input_width 500\n"
     ]
    }
   ],
   "source": [
    "# Train data preparation\n",
    "N = datasets[0].shape[0]\n",
    "conv_input_width = W.shape[1]\n",
    "conv_input_height = int(datasets[0].shape[1]-1)\n",
    "\n",
    "# For each word write a word index (not vector) to X tensor\n",
    "train_X = np.zeros((N, conv_input_height), dtype=np.int)\n",
    "train_Y = np.zeros((N, 2), dtype=np.int)\n",
    "for i in xrange(N):\n",
    "    for j in xrange(conv_input_height):\n",
    "        train_X[i, j] = datasets[0][i, j]\n",
    "    train_Y[i, datasets[0][i, -1]] = 1\n",
    "    \n",
    "print 'train_X.shape = {}'.format(train_X.shape)\n",
    "print 'train_Y.shape = {}'.format(train_Y.shape)\n",
    "print '----------------------------------------------------------'\n",
    "\n",
    "\n",
    "# Validation data preparation\n",
    "Nv = datasets[1].shape[0]\n",
    "\n",
    "# For each word write a word index (not vector) to X tensor\n",
    "val_X = np.zeros((Nv, conv_input_height), dtype=np.int)\n",
    "val_Y = np.zeros((Nv, 2), dtype=np.int)\n",
    "for i in xrange(Nv):\n",
    "    for j in xrange(conv_input_height):\n",
    "        val_X[i, j] = datasets[1][i, j]\n",
    "    val_Y[i, datasets[1][i, -1]] = 1\n",
    "    \n",
    "print 'val_X.shape = {}'.format(val_X.shape)\n",
    "print 'val_Y.shape = {}'.format(val_Y.shape)\n",
    "print '----------------------------------------------------------'\n",
    "\n",
    "\n",
    "\n",
    "# Test data preparation\n",
    "Nt = datasets[2].shape[0]\n",
    "\n",
    "# For each word write a word index (not vector) to X tensor\n",
    "test_X = np.zeros((Nt, conv_input_height), dtype=np.int)\n",
    "test_Y = np.zeros((Nt, 2), dtype=np.int)\n",
    "for i in xrange(Nt):\n",
    "    for j in xrange(conv_input_height):\n",
    "        test_X[i, j] = datasets[2][i, j]\n",
    "    test_Y[i, datasets[2][i, -1]] = 1\n",
    "    \n",
    "print 'test_X.shape = {}'.format(test_X.shape)\n",
    "print 'test_Y.shape = {}'.format(test_Y.shape)\n",
    "print '----------------------------------------------------------'\n",
    "\n",
    "# Other Information\n",
    "max_l = np.max(pd.DataFrame(revs)['num_words'])     #记录最长句子的单词量\n",
    "print 'number of sentences: ' + str(len(revs))\n",
    "print 'vocab size: ' + str(len(vocab))\n",
    "print 'max sentence length: ' + str(max_l)\n",
    "print 'W shape',W.shape\n",
    "print 'word_idx_map length',len(word_idx_map)\n",
    "print 'conv_input_height',conv_input_height\n",
    "print 'conv_input_width',conv_input_width"
   ]
  },
  {
   "cell_type": "markdown",
   "metadata": {},
   "source": [
    "# BUILD MODEL"
   ]
  },
  {
   "cell_type": "code",
   "execution_count": 5,
   "metadata": {},
   "outputs": [],
   "source": [
    "model = Sequential()\n",
    "model.add(Embedding(W.shape[0], W.shape[1], input_length=conv_input_height, dropout=0.2,weights=[W]))  # input:18155; output:500; input_length:42\n",
    "model.add(SimpleRNN(128, dropout_W=0.2, dropout_U=0.2))  # try using a GRU instead, for fun\n",
    "model.add(Dense(1))\n",
    "model.add(Activation('sigmoid'))\n",
    "# try using different optimizers and different optimizer configs\n",
    "model.compile(loss='binary_crossentropy',\n",
    "              optimizer='adam',\n",
    "              metrics=['accuracy'])"
   ]
  },
  {
   "cell_type": "code",
   "execution_count": 6,
   "metadata": {},
   "outputs": [
    {
     "name": "stdout",
     "output_type": "stream",
     "text": [
      "____________________________________________________________________________________________________\n",
      "Layer (type)                     Output Shape          Param #     Connected to                     \n",
      "====================================================================================================\n",
      "embedding_1 (Embedding)          (None, 55, 500)       9077500     embedding_input_1[0][0]          \n",
      "____________________________________________________________________________________________________\n",
      "simplernn_1 (SimpleRNN)          (None, 128)           80512       embedding_1[0][0]                \n",
      "____________________________________________________________________________________________________\n",
      "dense_1 (Dense)                  (None, 1)             129         simplernn_1[0][0]                \n",
      "____________________________________________________________________________________________________\n",
      "activation_1 (Activation)        (None, 1)             0           dense_1[0][0]                    \n",
      "====================================================================================================\n",
      "Total params: 9158141\n",
      "____________________________________________________________________________________________________\n"
     ]
    }
   ],
   "source": [
    "model.summary()"
   ]
  },
  {
   "cell_type": "code",
   "execution_count": 7,
   "metadata": {
    "collapsed": true
   },
   "outputs": [],
   "source": [
    "train_y_label = np.argmax(train_Y,axis=1)\n",
    "val_y_label =np.argmax(val_Y,axis=1)\n",
    "test_y_label =np.argmax(test_Y,axis=1)"
   ]
  },
  {
   "cell_type": "code",
   "execution_count": 8,
   "metadata": {},
   "outputs": [
    {
     "name": "stdout",
     "output_type": "stream",
     "text": [
      "Train on 4003 samples, validate on 997 samples\n",
      "Epoch 1/15\n",
      "4003/4003 [==============================] - 17s - loss: 0.6949 - acc: 0.5423 - val_loss: 0.6650 - val_acc: 0.5838\n",
      "Epoch 2/15\n",
      "4003/4003 [==============================] - 19s - loss: 0.6696 - acc: 0.5913 - val_loss: 0.6607 - val_acc: 0.5888\n",
      "Epoch 3/15\n",
      "4003/4003 [==============================] - 17s - loss: 0.6750 - acc: 0.5886 - val_loss: 0.6715 - val_acc: 0.6078\n",
      "Epoch 4/15\n",
      "4003/4003 [==============================] - 20s - loss: 0.6666 - acc: 0.5963 - val_loss: 0.6698 - val_acc: 0.6048\n",
      "Epoch 5/15\n",
      "4003/4003 [==============================] - 43s - loss: 0.6583 - acc: 0.6140 - val_loss: 0.6557 - val_acc: 0.6028\n",
      "Epoch 6/15\n",
      "4003/4003 [==============================] - 71s - loss: 0.6554 - acc: 0.6215 - val_loss: 0.6529 - val_acc: 0.6259\n",
      "Epoch 7/15\n",
      "4003/4003 [==============================] - 50s - loss: 0.6493 - acc: 0.6255 - val_loss: 0.6696 - val_acc: 0.6299\n",
      "Epoch 8/15\n",
      "4003/4003 [==============================] - 49s - loss: 0.6453 - acc: 0.6270 - val_loss: 0.6772 - val_acc: 0.6118\n",
      "Epoch 9/15\n",
      "4003/4003 [==============================] - 49s - loss: 0.6384 - acc: 0.6448 - val_loss: 0.6578 - val_acc: 0.6179\n",
      "Epoch 10/15\n",
      "4003/4003 [==============================] - 49s - loss: 0.6436 - acc: 0.6298 - val_loss: 0.6671 - val_acc: 0.6088\n",
      "Epoch 11/15\n",
      "4003/4003 [==============================] - 49s - loss: 0.6397 - acc: 0.6345 - val_loss: 0.6634 - val_acc: 0.6329\n",
      "Epoch 12/15\n",
      "4003/4003 [==============================] - 48s - loss: 0.6474 - acc: 0.6243 - val_loss: 0.6692 - val_acc: 0.6088\n",
      "Epoch 13/15\n",
      "4003/4003 [==============================] - 49s - loss: 0.6416 - acc: 0.6278 - val_loss: 0.6668 - val_acc: 0.6389\n",
      "Epoch 14/15\n",
      "4003/4003 [==============================] - 49s - loss: 0.6397 - acc: 0.6415 - val_loss: 0.6772 - val_acc: 0.6068\n",
      "Epoch 15/15\n",
      "4003/4003 [==============================] - 48s - loss: 0.6357 - acc: 0.6295 - val_loss: 0.6703 - val_acc: 0.6138\n"
     ]
    }
   ],
   "source": [
    "history = model.fit(train_X, train_y_label, nb_epoch=15,validation_data=(val_X, val_y_label))"
   ]
  },
  {
   "cell_type": "markdown",
   "metadata": {},
   "source": [
    "# MODEL EVALUATION"
   ]
  },
  {
   "cell_type": "code",
   "execution_count": 9,
   "metadata": {
    "collapsed": true
   },
   "outputs": [],
   "source": [
    "%matplotlib inline\n",
    "def plot_history(history):\n",
    "    # summarize history for accuracy\n",
    "    plt.plot(history.history['acc'])\n",
    "    plt.plot(history.history['val_acc'])\n",
    "    plt.title('model accuracy')\n",
    "    plt.ylabel('accuracy')\n",
    "    plt.xlabel('epoch')\n",
    "    plt.legend(['train', 'test'], loc='upper left')\n",
    "    plt.show()\n",
    "    # summarize history for loss\n",
    "    plt.plot(history.history['loss'])\n",
    "    plt.plot(history.history['val_loss'])\n",
    "    plt.title('model loss')\n",
    "    plt.ylabel('loss')\n",
    "    plt.xlabel('epoch')\n",
    "    plt.legend(['train', 'test'], loc='upper left')\n",
    "    plt.show()"
   ]
  },
  {
   "cell_type": "code",
   "execution_count": 10,
   "metadata": {},
   "outputs": [
    {
     "data": {
      "image/png": "[encoded data removed]",
      "text/plain": [
       "<matplotlib.figure.Figure at 0x129455910>"
      ]
     },
     "metadata": {},
     "output_type": "display_data"
    },
    {
     "data": {
      "image/png": "[encoded data removed]",
      "text/plain": [
       "<matplotlib.figure.Figure at 0x10f922850>"
      ]
     },
     "metadata": {},
     "output_type": "display_data"
    }
   ],
   "source": [
    "plot_history(history)"
   ]
  },
  {
   "cell_type": "code",
   "execution_count": 11,
   "metadata": {},
   "outputs": [
    {
     "name": "stdout",
     "output_type": "stream",
     "text": [
      "['loss', 'acc']\n",
      "4003/4003 [==============================] - 12s    \n",
      "[0.62713237634278107, 0.64451661255548454]\n",
      "5000/5000 [==============================] - 14s    \n",
      "[0.63906116409301761, 0.64859999999999995]\n"
     ]
    }
   ],
   "source": [
    "print model.metrics_names\n",
    "print model.evaluate(train_X,train_y_label)\n",
    "print model.evaluate(test_X,test_y_label)"
   ]
  }
 ],
 "metadata": {
  "kernelspec": {
   "display_name": "Python 3",
   "language": "python",
   "name": "python3"
  },
  "language_info": {
   "codemirror_mode": {
    "name": "ipython",
    "version": 3
   },
   "file_extension": ".py",
   "mimetype": "text/x-python",
   "name": "python",
   "nbconvert_exporter": "python",
   "pygments_lexer": "ipython3",
   "version": "3.6.3"
  }
 },
 "nbformat": 4,
 "nbformat_minor": 1
}
